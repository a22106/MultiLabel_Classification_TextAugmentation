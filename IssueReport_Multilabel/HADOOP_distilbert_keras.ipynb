{
 "metadata": {
  "language_info": {
   "codemirror_mode": {
    "name": "ipython",
    "version": 3
   },
   "file_extension": ".py",
   "mimetype": "text/x-python",
   "name": "python",
   "nbconvert_exporter": "python",
   "pygments_lexer": "ipython3",
   "version": "3.7.6"
  },
  "orig_nbformat": 2,
  "kernelspec": {
   "name": "python376jvsc74a57bd03964bdfc7fec506303793309713def2267a4eeac36a01a8c9fe0b66ac925ff04",
   "display_name": "Python 3.7.6 64-bit"
  },
  "metadata": {
   "interpreter": {
    "hash": "3964bdfc7fec506303793309713def2267a4eeac36a01a8c9fe0b66ac925ff04"
   }
  }
 },
 "nbformat": 4,
 "nbformat_minor": 2,
 "cells": [
  {
   "cell_type": "code",
   "execution_count": 11,
   "metadata": {},
   "outputs": [],
   "source": [
    "project = 'INFRA'\n",
    "\n",
    "trainingSize = 0.6\n",
    "validationSize = 0.2\n",
    "testSize = 0.2"
   ]
  },
  {
   "cell_type": "code",
   "execution_count": 2,
   "metadata": {},
   "outputs": [
    {
     "output_type": "execute_result",
     "data": {
      "text/plain": [
       "(1653, 26)"
      ]
     },
     "metadata": {},
     "execution_count": 2
    }
   ],
   "source": [
    "import numpy as np\n",
    "import pandas as pd\n",
    "\n",
    "data_path = '../Dataset/Deepsoft_IssueData/FCREPO.csv'\n",
    "data_path\n",
    "data = pd.read_csv(data_path)\n",
    "data.shape"
   ]
  },
  {
   "cell_type": "code",
   "execution_count": 3,
   "metadata": {},
   "outputs": [
    {
     "output_type": "stream",
     "name": "stdout",
     "text": [
      "[]\n[]\n"
     ]
    }
   ],
   "source": [
    "nan_values = data.isna()\n",
    "nan_columns = nan_values.any()\n",
    "\n",
    "columns_with_nan = data.columns[nan_columns].tolist()\n",
    "print(columns_with_nan)\n",
    "data = data.fillna(\"None\")\n",
    "nan_values = data.isna()\n",
    "nan_columns = nan_values.any()\n",
    "\n",
    "columns_with_nan = data.columns[nan_columns].tolist()\n",
    "print(columns_with_nan)"
   ]
  },
  {
   "cell_type": "code",
   "execution_count": 4,
   "metadata": {},
   "outputs": [],
   "source": [
    "data['description'] = data['title'] + data['description']\n",
    "data = data.drop('title',1) \n",
    "data = data.drop('issuekey',1) \n",
    "data = data.drop('component',1) "
   ]
  },
  {
   "cell_type": "code",
   "execution_count": 5,
   "metadata": {},
   "outputs": [
    {
     "output_type": "execute_result",
     "data": {
      "text/plain": [
       "                                         description  f4-audit  f4-auth  \\\n",
       "0  External triplestore with additional capabilit...         0        0   \n",
       "1  BDef and BMech Modification : with Integrity A...         0        0   \n",
       "2  Logging Refactoring : consistency and enable e...         0        0   \n",
       "\n",
       "   f4-camel  f4-core  f4-import-export  f4-java-client  f4-jmeter  f4-ldp  \\\n",
       "0         0        0                 0               0          0       0   \n",
       "1         0        0                 0               0          0       0   \n",
       "2         0        0                 0               0          0       0   \n",
       "\n",
       "   f4-message-consumer  ...  f4-vagrant  f4-webapp-plus  legacy - FeSL  \\\n",
       "0                    0  ...           0               0              0   \n",
       "1                    0  ...           0               0              0   \n",
       "2                    0  ...           0               0              0   \n",
       "\n",
       "   legacy - Fedora  legacy - GSearch  legacy - OAIProvider  legacy - OSGi  \\\n",
       "0                1                 0                     0              0   \n",
       "1                1                 0                     0              0   \n",
       "2                1                 0                     0              0   \n",
       "\n",
       "   legacy - Trippi  legacy - community extensions  legacy - java-client  \n",
       "0                0                              0                     0  \n",
       "1                0                              0                     0  \n",
       "2                0                              0                     0  \n",
       "\n",
       "[3 rows x 23 columns]"
      ],
      "text/html": "<div>\n<style scoped>\n    .dataframe tbody tr th:only-of-type {\n        vertical-align: middle;\n    }\n\n    .dataframe tbody tr th {\n        vertical-align: top;\n    }\n\n    .dataframe thead th {\n        text-align: right;\n    }\n</style>\n<table border=\"1\" class=\"dataframe\">\n  <thead>\n    <tr style=\"text-align: right;\">\n      <th></th>\n      <th>description</th>\n      <th>f4-audit</th>\n      <th>f4-auth</th>\n      <th>f4-camel</th>\n      <th>f4-core</th>\n      <th>f4-import-export</th>\n      <th>f4-java-client</th>\n      <th>f4-jmeter</th>\n      <th>f4-ldp</th>\n      <th>f4-message-consumer</th>\n      <th>...</th>\n      <th>f4-vagrant</th>\n      <th>f4-webapp-plus</th>\n      <th>legacy - FeSL</th>\n      <th>legacy - Fedora</th>\n      <th>legacy - GSearch</th>\n      <th>legacy - OAIProvider</th>\n      <th>legacy - OSGi</th>\n      <th>legacy - Trippi</th>\n      <th>legacy - community extensions</th>\n      <th>legacy - java-client</th>\n    </tr>\n  </thead>\n  <tbody>\n    <tr>\n      <th>0</th>\n      <td>External triplestore with additional capabilit...</td>\n      <td>0</td>\n      <td>0</td>\n      <td>0</td>\n      <td>0</td>\n      <td>0</td>\n      <td>0</td>\n      <td>0</td>\n      <td>0</td>\n      <td>0</td>\n      <td>...</td>\n      <td>0</td>\n      <td>0</td>\n      <td>0</td>\n      <td>1</td>\n      <td>0</td>\n      <td>0</td>\n      <td>0</td>\n      <td>0</td>\n      <td>0</td>\n      <td>0</td>\n    </tr>\n    <tr>\n      <th>1</th>\n      <td>BDef and BMech Modification : with Integrity A...</td>\n      <td>0</td>\n      <td>0</td>\n      <td>0</td>\n      <td>0</td>\n      <td>0</td>\n      <td>0</td>\n      <td>0</td>\n      <td>0</td>\n      <td>0</td>\n      <td>...</td>\n      <td>0</td>\n      <td>0</td>\n      <td>0</td>\n      <td>1</td>\n      <td>0</td>\n      <td>0</td>\n      <td>0</td>\n      <td>0</td>\n      <td>0</td>\n      <td>0</td>\n    </tr>\n    <tr>\n      <th>2</th>\n      <td>Logging Refactoring : consistency and enable e...</td>\n      <td>0</td>\n      <td>0</td>\n      <td>0</td>\n      <td>0</td>\n      <td>0</td>\n      <td>0</td>\n      <td>0</td>\n      <td>0</td>\n      <td>0</td>\n      <td>...</td>\n      <td>0</td>\n      <td>0</td>\n      <td>0</td>\n      <td>1</td>\n      <td>0</td>\n      <td>0</td>\n      <td>0</td>\n      <td>0</td>\n      <td>0</td>\n      <td>0</td>\n    </tr>\n  </tbody>\n</table>\n<p>3 rows × 23 columns</p>\n</div>"
     },
     "metadata": {},
     "execution_count": 5
    }
   ],
   "source": [
    "data.head(3)"
   ]
  },
  {
   "cell_type": "code",
   "execution_count": 6,
   "metadata": {},
   "outputs": [
    {
     "output_type": "execute_result",
     "data": {
      "text/plain": [
       "'External triplestore with additional capabilitiesThis is beyond the basic indexing of relationships that  will go on internally in Fedora 2.0. This external service  can harvest relationship metadata from the repository  and index it outside. It can also be the place where  other ontologies are overlayed on the base Fedora  relationship metadata to support more complex queries  and inferencing. Followup: Date: 2005-03-24 11:39 Sender: payette Logged In: YES  user_id=128 NSDL and/or Harris could develop stand-alone external  service. or we can enable remote configuration of existing kowari in  Fedora, but at users own risk.  (Fedora is not totally in  control of what goes in it.)'"
      ]
     },
     "metadata": {},
     "execution_count": 6
    }
   ],
   "source": [
    "data.description[0]"
   ]
  },
  {
   "cell_type": "code",
   "execution_count": 14,
   "metadata": {},
   "outputs": [
    {
     "output_type": "stream",
     "name": "stdout",
     "text": [
      "#Total size: 1653\n#Training : 991, #Validation : 330, #Testing : 330\nTotal: 1651\n"
     ]
    }
   ],
   "source": [
    "if trainingSize + validationSize + testSize == 1.0:\n",
    "  numData = len(data)\n",
    "  numTrain = int(trainingSize * numData)\n",
    "  numValidation = int(validationSize * numData)\n",
    "  numTest = int(testSize * numData)\n",
    "\n",
    "  print(\"#Total size: %s\" % numData)\n",
    "  print(\"#Training : %s, #Validation : %s, #Testing : %s\" % (numTrain, numValidation, numTest))\n",
    "  print(\"Total: %s\" % (numTrain + numValidation + numTest))\n",
    "\n",
    "  firstStop = numTrain\n",
    "  secondStop = numTrain + numValidation\n",
    "else:\n",
    "  print(\"input not valid\")\n"
   ]
  },
  {
   "cell_type": "code",
   "execution_count": 15,
   "metadata": {},
   "outputs": [],
   "source": [
    "from sklearn.model_selection import train_test_split"
   ]
  },
  {
   "cell_type": "code",
   "execution_count": 28,
   "metadata": {},
   "outputs": [],
   "source": [
    "trainSetData, val_test_data = train_test_split(data, train_size = trainingSize)\n",
    "validSetData, testSetData = train_test_split(val_test_data, train_size = validationSize)"
   ]
  },
  {
   "cell_type": "code",
   "execution_count": 33,
   "metadata": {},
   "outputs": [
    {
     "output_type": "execute_result",
     "data": {
      "text/plain": [
       "                                            description  f4-audit  f4-auth  \\\n",
       "294   Web-Accessible Administrative ClientCreate a m...         0        0   \n",
       "931   Grinder test runsBased on the Testing Consider...         0        0   \n",
       "471   Message digest algorithms HAVAL, TIGER and WHI...         0        0   \n",
       "612   FieldSearch implementation does not handle utc...         0        0   \n",
       "1301  WebAC: allow PUT and POST to create new resour...         0        1   \n",
       "\n",
       "      f4-camel  f4-core  f4-import-export  f4-java-client  f4-jmeter  f4-ldp  \\\n",
       "294          0        0                 0               0          0       0   \n",
       "931          0        1                 0               0          0       0   \n",
       "471          0        0                 0               0          0       0   \n",
       "612          0        0                 0               0          0       0   \n",
       "1301         0        0                 0               0          0       0   \n",
       "\n",
       "      f4-message-consumer  ...  f4-vagrant  f4-webapp-plus  legacy - FeSL  \\\n",
       "294                     0  ...           0               0              0   \n",
       "931                     0  ...           0               0              0   \n",
       "471                     0  ...           0               0              0   \n",
       "612                     0  ...           0               0              0   \n",
       "1301                    0  ...           0               0              0   \n",
       "\n",
       "      legacy - Fedora  legacy - GSearch  legacy - OAIProvider  legacy - OSGi  \\\n",
       "294                 1                 0                     0              0   \n",
       "931                 0                 0                     0              0   \n",
       "471                 1                 0                     0              0   \n",
       "612                 1                 0                     0              0   \n",
       "1301                0                 0                     0              0   \n",
       "\n",
       "      legacy - Trippi  legacy - community extensions  legacy - java-client  \n",
       "294                 0                              0                     0  \n",
       "931                 0                              0                     0  \n",
       "471                 0                              0                     0  \n",
       "612                 0                              0                     0  \n",
       "1301                0                              0                     0  \n",
       "\n",
       "[5 rows x 23 columns]"
      ],
      "text/html": "<div>\n<style scoped>\n    .dataframe tbody tr th:only-of-type {\n        vertical-align: middle;\n    }\n\n    .dataframe tbody tr th {\n        vertical-align: top;\n    }\n\n    .dataframe thead th {\n        text-align: right;\n    }\n</style>\n<table border=\"1\" class=\"dataframe\">\n  <thead>\n    <tr style=\"text-align: right;\">\n      <th></th>\n      <th>description</th>\n      <th>f4-audit</th>\n      <th>f4-auth</th>\n      <th>f4-camel</th>\n      <th>f4-core</th>\n      <th>f4-import-export</th>\n      <th>f4-java-client</th>\n      <th>f4-jmeter</th>\n      <th>f4-ldp</th>\n      <th>f4-message-consumer</th>\n      <th>...</th>\n      <th>f4-vagrant</th>\n      <th>f4-webapp-plus</th>\n      <th>legacy - FeSL</th>\n      <th>legacy - Fedora</th>\n      <th>legacy - GSearch</th>\n      <th>legacy - OAIProvider</th>\n      <th>legacy - OSGi</th>\n      <th>legacy - Trippi</th>\n      <th>legacy - community extensions</th>\n      <th>legacy - java-client</th>\n    </tr>\n  </thead>\n  <tbody>\n    <tr>\n      <th>294</th>\n      <td>Web-Accessible Administrative ClientCreate a m...</td>\n      <td>0</td>\n      <td>0</td>\n      <td>0</td>\n      <td>0</td>\n      <td>0</td>\n      <td>0</td>\n      <td>0</td>\n      <td>0</td>\n      <td>0</td>\n      <td>...</td>\n      <td>0</td>\n      <td>0</td>\n      <td>0</td>\n      <td>1</td>\n      <td>0</td>\n      <td>0</td>\n      <td>0</td>\n      <td>0</td>\n      <td>0</td>\n      <td>0</td>\n    </tr>\n    <tr>\n      <th>931</th>\n      <td>Grinder test runsBased on the Testing Consider...</td>\n      <td>0</td>\n      <td>0</td>\n      <td>0</td>\n      <td>1</td>\n      <td>0</td>\n      <td>0</td>\n      <td>0</td>\n      <td>0</td>\n      <td>0</td>\n      <td>...</td>\n      <td>0</td>\n      <td>0</td>\n      <td>0</td>\n      <td>0</td>\n      <td>0</td>\n      <td>0</td>\n      <td>0</td>\n      <td>0</td>\n      <td>0</td>\n      <td>0</td>\n    </tr>\n    <tr>\n      <th>471</th>\n      <td>Message digest algorithms HAVAL, TIGER and WHI...</td>\n      <td>0</td>\n      <td>0</td>\n      <td>0</td>\n      <td>0</td>\n      <td>0</td>\n      <td>0</td>\n      <td>0</td>\n      <td>0</td>\n      <td>0</td>\n      <td>...</td>\n      <td>0</td>\n      <td>0</td>\n      <td>0</td>\n      <td>1</td>\n      <td>0</td>\n      <td>0</td>\n      <td>0</td>\n      <td>0</td>\n      <td>0</td>\n      <td>0</td>\n    </tr>\n    <tr>\n      <th>612</th>\n      <td>FieldSearch implementation does not handle utc...</td>\n      <td>0</td>\n      <td>0</td>\n      <td>0</td>\n      <td>0</td>\n      <td>0</td>\n      <td>0</td>\n      <td>0</td>\n      <td>0</td>\n      <td>0</td>\n      <td>...</td>\n      <td>0</td>\n      <td>0</td>\n      <td>0</td>\n      <td>1</td>\n      <td>0</td>\n      <td>0</td>\n      <td>0</td>\n      <td>0</td>\n      <td>0</td>\n      <td>0</td>\n    </tr>\n    <tr>\n      <th>1301</th>\n      <td>WebAC: allow PUT and POST to create new resour...</td>\n      <td>0</td>\n      <td>1</td>\n      <td>0</td>\n      <td>0</td>\n      <td>0</td>\n      <td>0</td>\n      <td>0</td>\n      <td>0</td>\n      <td>0</td>\n      <td>...</td>\n      <td>0</td>\n      <td>0</td>\n      <td>0</td>\n      <td>0</td>\n      <td>0</td>\n      <td>0</td>\n      <td>0</td>\n      <td>0</td>\n      <td>0</td>\n      <td>0</td>\n    </tr>\n  </tbody>\n</table>\n<p>5 rows × 23 columns</p>\n</div>"
     },
     "metadata": {},
     "execution_count": 33
    }
   ],
   "source": [
    "trainSetData.head(5)"
   ]
  },
  {
   "cell_type": "code",
   "execution_count": 34,
   "metadata": {},
   "outputs": [
    {
     "output_type": "execute_result",
     "data": {
      "text/plain": [
       "                                            description  f4-audit  f4-auth  \\\n",
       "271   2.2.4 source dist scripts have dos line ending...         0        0   \n",
       "998   Reduce Sonar major issue - \"Generic exceptions...         0        0   \n",
       "1586  Export w/ binary fails if descDir and binDir a...         0        0   \n",
       "1455  OWL Reasoning in Fuseki / VagrantThis task is ...         0        0   \n",
       "779   Compatibility with latest versions of Fedora, ...         0        0   \n",
       "\n",
       "      f4-camel  f4-core  f4-import-export  f4-java-client  f4-jmeter  f4-ldp  \\\n",
       "271          0        0                 0               0          0       0   \n",
       "998          0        1                 0               0          0       0   \n",
       "1586         0        0                 1               0          0       0   \n",
       "1455         0        0                 0               0          0       0   \n",
       "779          0        0                 0               0          0       0   \n",
       "\n",
       "      f4-message-consumer  ...  f4-vagrant  f4-webapp-plus  legacy - FeSL  \\\n",
       "271                     0  ...           0               0              0   \n",
       "998                     0  ...           0               0              0   \n",
       "1586                    0  ...           0               0              0   \n",
       "1455                    0  ...           1               0              0   \n",
       "779                     0  ...           0               0              0   \n",
       "\n",
       "      legacy - Fedora  legacy - GSearch  legacy - OAIProvider  legacy - OSGi  \\\n",
       "271                 1                 0                     0              0   \n",
       "998                 0                 0                     0              0   \n",
       "1586                0                 0                     0              0   \n",
       "1455                0                 0                     0              0   \n",
       "779                 0                 1                     0              0   \n",
       "\n",
       "      legacy - Trippi  legacy - community extensions  legacy - java-client  \n",
       "271                 0                              0                     0  \n",
       "998                 0                              0                     0  \n",
       "1586                0                              0                     0  \n",
       "1455                0                              0                     0  \n",
       "779                 0                              0                     0  \n",
       "\n",
       "[5 rows x 23 columns]"
      ],
      "text/html": "<div>\n<style scoped>\n    .dataframe tbody tr th:only-of-type {\n        vertical-align: middle;\n    }\n\n    .dataframe tbody tr th {\n        vertical-align: top;\n    }\n\n    .dataframe thead th {\n        text-align: right;\n    }\n</style>\n<table border=\"1\" class=\"dataframe\">\n  <thead>\n    <tr style=\"text-align: right;\">\n      <th></th>\n      <th>description</th>\n      <th>f4-audit</th>\n      <th>f4-auth</th>\n      <th>f4-camel</th>\n      <th>f4-core</th>\n      <th>f4-import-export</th>\n      <th>f4-java-client</th>\n      <th>f4-jmeter</th>\n      <th>f4-ldp</th>\n      <th>f4-message-consumer</th>\n      <th>...</th>\n      <th>f4-vagrant</th>\n      <th>f4-webapp-plus</th>\n      <th>legacy - FeSL</th>\n      <th>legacy - Fedora</th>\n      <th>legacy - GSearch</th>\n      <th>legacy - OAIProvider</th>\n      <th>legacy - OSGi</th>\n      <th>legacy - Trippi</th>\n      <th>legacy - community extensions</th>\n      <th>legacy - java-client</th>\n    </tr>\n  </thead>\n  <tbody>\n    <tr>\n      <th>271</th>\n      <td>2.2.4 source dist scripts have dos line ending...</td>\n      <td>0</td>\n      <td>0</td>\n      <td>0</td>\n      <td>0</td>\n      <td>0</td>\n      <td>0</td>\n      <td>0</td>\n      <td>0</td>\n      <td>0</td>\n      <td>...</td>\n      <td>0</td>\n      <td>0</td>\n      <td>0</td>\n      <td>1</td>\n      <td>0</td>\n      <td>0</td>\n      <td>0</td>\n      <td>0</td>\n      <td>0</td>\n      <td>0</td>\n    </tr>\n    <tr>\n      <th>998</th>\n      <td>Reduce Sonar major issue - \"Generic exceptions...</td>\n      <td>0</td>\n      <td>0</td>\n      <td>0</td>\n      <td>1</td>\n      <td>0</td>\n      <td>0</td>\n      <td>0</td>\n      <td>0</td>\n      <td>0</td>\n      <td>...</td>\n      <td>0</td>\n      <td>0</td>\n      <td>0</td>\n      <td>0</td>\n      <td>0</td>\n      <td>0</td>\n      <td>0</td>\n      <td>0</td>\n      <td>0</td>\n      <td>0</td>\n    </tr>\n    <tr>\n      <th>1586</th>\n      <td>Export w/ binary fails if descDir and binDir a...</td>\n      <td>0</td>\n      <td>0</td>\n      <td>0</td>\n      <td>0</td>\n      <td>1</td>\n      <td>0</td>\n      <td>0</td>\n      <td>0</td>\n      <td>0</td>\n      <td>...</td>\n      <td>0</td>\n      <td>0</td>\n      <td>0</td>\n      <td>0</td>\n      <td>0</td>\n      <td>0</td>\n      <td>0</td>\n      <td>0</td>\n      <td>0</td>\n      <td>0</td>\n    </tr>\n    <tr>\n      <th>1455</th>\n      <td>OWL Reasoning in Fuseki / VagrantThis task is ...</td>\n      <td>0</td>\n      <td>0</td>\n      <td>0</td>\n      <td>0</td>\n      <td>0</td>\n      <td>0</td>\n      <td>0</td>\n      <td>0</td>\n      <td>0</td>\n      <td>...</td>\n      <td>1</td>\n      <td>0</td>\n      <td>0</td>\n      <td>0</td>\n      <td>0</td>\n      <td>0</td>\n      <td>0</td>\n      <td>0</td>\n      <td>0</td>\n      <td>0</td>\n    </tr>\n    <tr>\n      <th>779</th>\n      <td>Compatibility with latest versions of Fedora, ...</td>\n      <td>0</td>\n      <td>0</td>\n      <td>0</td>\n      <td>0</td>\n      <td>0</td>\n      <td>0</td>\n      <td>0</td>\n      <td>0</td>\n      <td>0</td>\n      <td>...</td>\n      <td>0</td>\n      <td>0</td>\n      <td>0</td>\n      <td>0</td>\n      <td>1</td>\n      <td>0</td>\n      <td>0</td>\n      <td>0</td>\n      <td>0</td>\n      <td>0</td>\n    </tr>\n  </tbody>\n</table>\n<p>5 rows × 23 columns</p>\n</div>"
     },
     "metadata": {},
     "execution_count": 34
    }
   ],
   "source": [
    "validSetData.head(5)"
   ]
  },
  {
   "cell_type": "code",
   "execution_count": 35,
   "metadata": {},
   "outputs": [
    {
     "output_type": "execute_result",
     "data": {
      "text/plain": [
       "                                            description  f4-audit  f4-auth  \\\n",
       "926   Synchornisation possible Repository Equivalenc...         0        0   \n",
       "1636  Set Import 'source' if not providedThis task i...         0        0   \n",
       "1066  Publish \"fixity\" messageThis task is to create...         1        0   \n",
       "596   Allow externally-managed content referring to ...         0        0   \n",
       "1145  Redesign Fixity ServiceThis task is to redesig...         1        0   \n",
       "\n",
       "      f4-camel  f4-core  f4-import-export  f4-java-client  f4-jmeter  f4-ldp  \\\n",
       "926          0        0                 0               0          0       0   \n",
       "1636         0        0                 1               0          0       0   \n",
       "1066         0        1                 0               0          0       0   \n",
       "596          0        0                 0               0          0       0   \n",
       "1145         0        1                 0               0          0       0   \n",
       "\n",
       "      f4-message-consumer  ...  f4-vagrant  f4-webapp-plus  legacy - FeSL  \\\n",
       "926                     0  ...           0               0              0   \n",
       "1636                    0  ...           0               0              0   \n",
       "1066                    0  ...           0               0              0   \n",
       "596                     0  ...           0               0              0   \n",
       "1145                    0  ...           0               0              0   \n",
       "\n",
       "      legacy - Fedora  legacy - GSearch  legacy - OAIProvider  legacy - OSGi  \\\n",
       "926                 1                 0                     0              0   \n",
       "1636                0                 0                     0              0   \n",
       "1066                0                 0                     0              0   \n",
       "596                 1                 0                     0              0   \n",
       "1145                0                 0                     0              0   \n",
       "\n",
       "      legacy - Trippi  legacy - community extensions  legacy - java-client  \n",
       "926                 0                              0                     0  \n",
       "1636                0                              0                     0  \n",
       "1066                0                              0                     0  \n",
       "596                 0                              0                     0  \n",
       "1145                0                              0                     0  \n",
       "\n",
       "[5 rows x 23 columns]"
      ],
      "text/html": "<div>\n<style scoped>\n    .dataframe tbody tr th:only-of-type {\n        vertical-align: middle;\n    }\n\n    .dataframe tbody tr th {\n        vertical-align: top;\n    }\n\n    .dataframe thead th {\n        text-align: right;\n    }\n</style>\n<table border=\"1\" class=\"dataframe\">\n  <thead>\n    <tr style=\"text-align: right;\">\n      <th></th>\n      <th>description</th>\n      <th>f4-audit</th>\n      <th>f4-auth</th>\n      <th>f4-camel</th>\n      <th>f4-core</th>\n      <th>f4-import-export</th>\n      <th>f4-java-client</th>\n      <th>f4-jmeter</th>\n      <th>f4-ldp</th>\n      <th>f4-message-consumer</th>\n      <th>...</th>\n      <th>f4-vagrant</th>\n      <th>f4-webapp-plus</th>\n      <th>legacy - FeSL</th>\n      <th>legacy - Fedora</th>\n      <th>legacy - GSearch</th>\n      <th>legacy - OAIProvider</th>\n      <th>legacy - OSGi</th>\n      <th>legacy - Trippi</th>\n      <th>legacy - community extensions</th>\n      <th>legacy - java-client</th>\n    </tr>\n  </thead>\n  <tbody>\n    <tr>\n      <th>926</th>\n      <td>Synchornisation possible Repository Equivalenc...</td>\n      <td>0</td>\n      <td>0</td>\n      <td>0</td>\n      <td>0</td>\n      <td>0</td>\n      <td>0</td>\n      <td>0</td>\n      <td>0</td>\n      <td>0</td>\n      <td>...</td>\n      <td>0</td>\n      <td>0</td>\n      <td>0</td>\n      <td>1</td>\n      <td>0</td>\n      <td>0</td>\n      <td>0</td>\n      <td>0</td>\n      <td>0</td>\n      <td>0</td>\n    </tr>\n    <tr>\n      <th>1636</th>\n      <td>Set Import 'source' if not providedThis task i...</td>\n      <td>0</td>\n      <td>0</td>\n      <td>0</td>\n      <td>0</td>\n      <td>1</td>\n      <td>0</td>\n      <td>0</td>\n      <td>0</td>\n      <td>0</td>\n      <td>...</td>\n      <td>0</td>\n      <td>0</td>\n      <td>0</td>\n      <td>0</td>\n      <td>0</td>\n      <td>0</td>\n      <td>0</td>\n      <td>0</td>\n      <td>0</td>\n      <td>0</td>\n    </tr>\n    <tr>\n      <th>1066</th>\n      <td>Publish \"fixity\" messageThis task is to create...</td>\n      <td>1</td>\n      <td>0</td>\n      <td>0</td>\n      <td>1</td>\n      <td>0</td>\n      <td>0</td>\n      <td>0</td>\n      <td>0</td>\n      <td>0</td>\n      <td>...</td>\n      <td>0</td>\n      <td>0</td>\n      <td>0</td>\n      <td>0</td>\n      <td>0</td>\n      <td>0</td>\n      <td>0</td>\n      <td>0</td>\n      <td>0</td>\n      <td>0</td>\n    </tr>\n    <tr>\n      <th>596</th>\n      <td>Allow externally-managed content referring to ...</td>\n      <td>0</td>\n      <td>0</td>\n      <td>0</td>\n      <td>0</td>\n      <td>0</td>\n      <td>0</td>\n      <td>0</td>\n      <td>0</td>\n      <td>0</td>\n      <td>...</td>\n      <td>0</td>\n      <td>0</td>\n      <td>0</td>\n      <td>1</td>\n      <td>0</td>\n      <td>0</td>\n      <td>0</td>\n      <td>0</td>\n      <td>0</td>\n      <td>0</td>\n    </tr>\n    <tr>\n      <th>1145</th>\n      <td>Redesign Fixity ServiceThis task is to redesig...</td>\n      <td>1</td>\n      <td>0</td>\n      <td>0</td>\n      <td>1</td>\n      <td>0</td>\n      <td>0</td>\n      <td>0</td>\n      <td>0</td>\n      <td>0</td>\n      <td>...</td>\n      <td>0</td>\n      <td>0</td>\n      <td>0</td>\n      <td>0</td>\n      <td>0</td>\n      <td>0</td>\n      <td>0</td>\n      <td>0</td>\n      <td>0</td>\n      <td>0</td>\n    </tr>\n  </tbody>\n</table>\n<p>5 rows × 23 columns</p>\n</div>"
     },
     "metadata": {},
     "execution_count": 35
    }
   ],
   "source": [
    "testSetData.head(5)"
   ]
  },
  {
   "cell_type": "code",
   "execution_count": 36,
   "metadata": {},
   "outputs": [],
   "source": [
    "from keras.preprocessing.text import Tokenizer\n",
    "from keras.preprocessing.sequence import pad_sequences\n",
    "from keras.utils import to_categorical"
   ]
  },
  {
   "cell_type": "code",
   "execution_count": 37,
   "metadata": {},
   "outputs": [],
   "source": [
    "trainText = trainSetData.description\n",
    "validText = validSetData.description\n",
    "testText = testSetData.description"
   ]
  },
  {
   "cell_type": "code",
   "execution_count": 39,
   "metadata": {},
   "outputs": [
    {
     "output_type": "stream",
     "name": "stdout",
     "text": [
      "Found 8526 unique tokens.\n"
     ]
    }
   ],
   "source": [
    "NUM_WORDS=300000\n",
    "tokenizer = Tokenizer(num_words=NUM_WORDS, filters='!\"#$%&()*+,-./:;<=>?@[\\\\]^_`{|}~\\t\\n\\'', lower=True)\n",
    "tokenizer.fit_on_texts(trainText)\n",
    "trainSequences = tokenizer.texts_to_sequences(trainText)\n",
    "validSequences = tokenizer.texts_to_sequences(validText)\n",
    "testSequences = tokenizer.texts_to_sequences(testText)\n",
    "word_index = tokenizer.word_index\n",
    "print('Found %s unique tokens.' % len(word_index))"
   ]
  },
  {
   "cell_type": "code",
   "execution_count": 40,
   "metadata": {},
   "outputs": [
    {
     "output_type": "stream",
     "name": "stdout",
     "text": [
      "Shape of X train and X validation tensor: (991, 2427) (132, 2427)\nShape of label train and validation tensor: (991, 22) (132, 22)\nShape of X test: (530, 2427)\nShape of label test tensor: (530, 22)\n"
     ]
    }
   ],
   "source": [
    "x_train = pad_sequences(trainSequences)\n",
    "y_train = trainSetData.iloc[:,1:].values\n",
    "\n",
    "x_valid = pad_sequences(validSequences, maxlen = x_train.shape[1])\n",
    "y_valid = validSetData.iloc[:,1:].values\n",
    "\n",
    "x_test = pad_sequences(testSequences,maxlen = x_train.shape[1])\n",
    "y_test = testSetData.iloc[:,1:].values\n",
    "\n",
    "print('Shape of X train and X validation tensor:', x_train.shape, x_valid.shape)\n",
    "print('Shape of label train and validation tensor:', y_train.shape, y_valid.shape)\n",
    "\n",
    "\n",
    "print('Shape of X test:', x_test.shape)\n",
    "print('Shape of label test tensor:', y_test.shape)"
   ]
  },
  {
   "cell_type": "code",
   "execution_count": 44,
   "metadata": {},
   "outputs": [],
   "source": [
    "EMBEDDING_DIM=300\n",
    "vocabulary_size = min(len(word_index)+1,NUM_WORDS) # minimum fo word index and num words\n",
    "embedding_matrix = np.zeros((vocabulary_size, EMBEDDING_DIM))"
   ]
  },
  {
   "cell_type": "code",
   "execution_count": 45,
   "metadata": {},
   "outputs": [
    {
     "output_type": "stream",
     "name": "stdout",
     "text": [
      "Model: \"model\"\n__________________________________________________________________________________________________\nLayer (type)                    Output Shape         Param #     Connected to                     \n==================================================================================================\ninput_1 (InputLayer)            [(None, 2427)]       0                                            \n__________________________________________________________________________________________________\nembedding (Embedding)           (None, 2427, 300)    2558100     input_1[0][0]                    \n__________________________________________________________________________________________________\nreshape (Reshape)               (None, 2427, 300, 1) 0           embedding[0][0]                  \n__________________________________________________________________________________________________\nconv2d (Conv2D)                 (None, 2425, 1, 100) 90100       reshape[0][0]                    \n__________________________________________________________________________________________________\nconv2d_1 (Conv2D)               (None, 2424, 1, 100) 120100      reshape[0][0]                    \n__________________________________________________________________________________________________\nconv2d_2 (Conv2D)               (None, 2423, 1, 100) 150100      reshape[0][0]                    \n__________________________________________________________________________________________________\nmax_pooling2d (MaxPooling2D)    (None, 1, 1, 100)    0           conv2d[0][0]                     \n__________________________________________________________________________________________________\nmax_pooling2d_1 (MaxPooling2D)  (None, 1, 1, 100)    0           conv2d_1[0][0]                   \n__________________________________________________________________________________________________\nmax_pooling2d_2 (MaxPooling2D)  (None, 1, 1, 100)    0           conv2d_2[0][0]                   \n__________________________________________________________________________________________________\nconcatenate (Concatenate)       (None, 3, 1, 100)    0           max_pooling2d[0][0]              \n                                                                 max_pooling2d_1[0][0]            \n                                                                 max_pooling2d_2[0][0]            \n__________________________________________________________________________________________________\nflatten (Flatten)               (None, 300)          0           concatenate[0][0]                \n__________________________________________________________________________________________________\ndropout (Dropout)               (None, 300)          0           flatten[0][0]                    \n__________________________________________________________________________________________________\ndense (Dense)                   (None, 22)           6622        dropout[0][0]                    \n==================================================================================================\nTotal params: 2,925,022\nTrainable params: 2,925,022\nNon-trainable params: 0\n__________________________________________________________________________________________________\n"
     ]
    }
   ],
   "source": [
    "from keras.layers import Embedding\n",
    "\n",
    "embedding_layer = Embedding(vocabulary_size,\n",
    "                            EMBEDDING_DIM,\n",
    "                            weights=[embedding_matrix],\n",
    "                            trainable=True)\n",
    "                            \n",
    "from keras.layers import Dense, Input, GlobalMaxPooling1D\n",
    "from keras.layers import Conv1D, MaxPooling1D, Embedding\n",
    "from keras.models import Model\n",
    "from keras.layers import Input, Dense, Embedding, Conv2D, MaxPooling2D, Dropout,concatenate\n",
    "from keras.layers.core import Reshape, Flatten\n",
    "from keras.callbacks import EarlyStopping\n",
    "from keras.optimizers import Adam\n",
    "from keras.models import Model\n",
    "from keras import regularizers\n",
    "from keras import backend as K\n",
    "from keras.callbacks import ModelCheckpoint\n",
    "from keras.callbacks import ReduceLROnPlateau\n",
    "import transformers\n",
    "\n",
    "sequence_length = x_train.shape[1]\n",
    "filter_sizes = [3,4,5]\n",
    "num_filters = 100\n",
    "drop = 0.5\n",
    "\n",
    "inputs = Input(shape=(sequence_length,))\n",
    "embedding = embedding_layer(inputs)\n",
    "reshape = Reshape((sequence_length,EMBEDDING_DIM,1))(embedding)\n",
    "\n",
    "conv_0 = Conv2D(num_filters, (filter_sizes[0], EMBEDDING_DIM),activation='relu',kernel_regularizer=regularizers.l2(0.01))(reshape)\n",
    "conv_1 = Conv2D(num_filters, (filter_sizes[1], EMBEDDING_DIM),activation='relu',kernel_regularizer=regularizers.l2(0.01))(reshape)\n",
    "conv_2 = Conv2D(num_filters, (filter_sizes[2], EMBEDDING_DIM),activation='relu',kernel_regularizer=regularizers.l2(0.01))(reshape)\n",
    "\n",
    "maxpool_0 = MaxPooling2D((sequence_length - filter_sizes[0] + 1, 1), strides=(1,1))(conv_0)\n",
    "maxpool_1 = MaxPooling2D((sequence_length - filter_sizes[1] + 1, 1), strides=(1,1))(conv_1)\n",
    "maxpool_2 = MaxPooling2D((sequence_length - filter_sizes[2] + 1, 1), strides=(1,1))(conv_2)\n",
    "\n",
    "merged_tensor = concatenate([maxpool_0, maxpool_1, maxpool_2], axis=1)\n",
    "flatten = Flatten()(merged_tensor)\n",
    "reshape = Reshape((3*num_filters,))(flatten)\n",
    "dropout = Dropout(drop)(flatten)\n",
    "output = Dense(units=len(y_train[0]), activation='softmax',kernel_regularizer=regularizers.l2(0.01))(dropout)\n",
    "\n",
    "# this creates a model that includes\n",
    "model = Model(inputs, output)\n",
    "model.summary()"
   ]
  },
  {
   "cell_type": "code",
   "execution_count": null,
   "metadata": {},
   "outputs": [],
   "source": []
  }
 ]
}