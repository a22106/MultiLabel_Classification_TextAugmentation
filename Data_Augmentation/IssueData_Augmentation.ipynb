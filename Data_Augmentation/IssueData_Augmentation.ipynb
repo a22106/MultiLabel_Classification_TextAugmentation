{
 "cells": [
  {
   "cell_type": "markdown",
   "metadata": {},
   "source": [
    "!pip install nlpaug"
   ]
  },
  {
   "cell_type": "code",
   "execution_count": 10,
   "metadata": {},
   "outputs": [],
   "source": [
    "import nlpaug.augmenter.char as nac\n",
    "import nlpaug.augmenter.word as naw\n",
    "import nlpaug.augmenter.sentence as nas\n",
    "import nlpaug\n",
    "\n",
    "import pandas as pd\n",
    "import sys\n",
    "import csv"
   ]
  },
  {
   "cell_type": "code",
   "execution_count": null,
   "metadata": {
    "tags": []
   },
   "outputs": [],
   "source": [
    "### Char Augmenter\r\n",
    "# Optical character recognition\r\n",
    "aug_char_OCR = nac.OcrAug()\r\n",
    "# Keyboard\r\n",
    "aug_char_Keyboard = nac.KeyboardAug()\r\n",
    "\r\n",
    "### Word Augmenter\r\n",
    "# Spelling\r\n",
    "aug_word_Spelling = naw.SpellingAug()\r\n",
    "#aug_word_WordEmbedng = naw.WordEmbsAug(model_type = 'word2vec', model_path=model_dir+'GoogleNews-vectors-negative300.bin', action=\"insert\")\r\n",
    "#aug_word_TfIdfAug = naw.TfIdfAug(model_path = os.environ.get(\"MODEL_DIR\"), action = 'insert')\r\n",
    "aug_word_ContextualWordEmbs = naw.ContextualWordEmbsAug(model_path = 'bert-base-uncased', action = 'insert')\r\n",
    "aug_word_Synonym = naw.SynonymAug(aug_src = 'wordnet')\r\n",
    "aug_word_Antonym = naw.AntonymAug()\r\n",
    "aug_word_Split = naw.SplitAug()\r\n",
    "aug_word_BackTranslation = naw.BackTranslationAug(from_model_name = 'transformer.wmt19.en-de', to_model_name = 'transformer.wmt19.de-en')"
   ]
  },
  {
   "cell_type": "markdown",
   "metadata": {},
   "source": [
    "# 원본 데이터 정제"
   ]
  },
  {
   "cell_type": "code",
   "execution_count": 3,
   "metadata": {},
   "outputs": [],
   "source": [
    "def refine_data(dataset_name):\n",
    "    # 원본 HADOOP csv데이터 불러와서 정제하기\n",
    "    issueReport = pd.read_csv(\"../Dataset/Deepsoft_IssueData/{}.csv\".format(dataset_name))\n",
    "    issueOnehot = issueReport.drop(columns = ['issuekey', 'title', 'description', 'component'])\n",
    "\n",
    "    issueLabel = []\n",
    "    for i in range(len(issueOnehot)):\n",
    "        issueLabel.append(list(issueOnehot.iloc[i]))\n",
    "\n",
    "    # make 'data' value\n",
    "    refined_data = issueReport\n",
    "\n",
    "    issueText = pd.Series(list(issueReport[\"title\"] + ' ' + issueReport['description']), index = refined_data.index)\n",
    "    refined_data['text'] = issueText\n",
    "\n",
    "    refined_data['labels'] = pd.Series(issueLabel, index = refined_data.index)\n",
    "\n",
    "    refined_data = refined_data.drop(columns = ['issuekey', 'title', 'description', 'component'])\n",
    "    refined_data = pd.DataFrame(data = {'text':issueText, 'labels': issueLabel})\n",
    "    return refined_data"
   ]
  },
  {
   "cell_type": "code",
   "execution_count": 4,
   "metadata": {},
   "outputs": [],
   "source": [
    "def list_data(refined_data):\n",
    "    # 정제된 데이터 text 리스트화\n",
    "    data_list = []\n",
    "    len(refined_data['text'])\n",
    "    for x in range(len(refined_data['text'])):\n",
    "        data_list.append(refined_data['text'][x])\n",
    "    return data_list\n",
    "\n",
    "#AUG_INTERVAL = 2\n"
   ]
  },
  {
   "cell_type": "markdown",
   "metadata": {},
   "source": [
    "# 원본 데이터 augmentation\n",
    "f = open('HADOOP_aug_mul3.csv', 'a', newline='', encoding='utf-8')\n",
    "wr = csv.writer(f)\n",
    "wr.writerow(data)\n",
    "for x in range(len(data)):\n",
    "    wr.writerow([data['text'][x], data['labels'][x]])\n",
    "\n",
    "for line in range(AUG_RANGE):\n",
    "    augmented_Embeded = aug_Embeded.augment(data['text'][line])\n",
    "    wr.writerow([augmented_Embeded, data['labels'][line]])\n",
    "f.close()"
   ]
  },
  {
   "cell_type": "code",
   "execution_count": 5,
   "metadata": {},
   "outputs": [],
   "source": [
    "def augment_data(dataset_name, dataset, aug_target, augmenter, augmenter_name, augment_times = 6):\n",
    "    # augmentation 데이터 추가\n",
    "    if augment_times <= 0:\n",
    "        return\n",
    "\n",
    "    aug_range = len(dataset)\n",
    "    f = open('../Dataset/Deepsoft_IssueData_AUG/{}_{}_{}.csv'.format(dataset_name, aug_target, augmenter_name), 'w', newline='', encoding='utf-8')\n",
    "    wr = csv.writer(f)\n",
    "    wr.writerow(dataset)\n",
    "    for x in range(len(dataset)):\n",
    "        wr.writerow([dataset['text'][x], dataset['labels'][x]])\n",
    "    \n",
    "    for x in range(augment_times): # aug multip\n",
    "        for line in range(aug_range):\n",
    "            augmented_Embeded = augmenter.augment(dataset['text'][line])\n",
    "            wr.writerow([augmented_Embeded, dataset['labels'][line]])\n",
    "    \n",
    "    f.close()"
   ]
  },
  {
   "cell_type": "code",
   "execution_count": 6,
   "metadata": {},
   "outputs": [],
   "source": [
    "# refine_data, augment_data\n",
    "\n",
    "dataset_HADOOP = refine_data(\"HADOOP\")\n",
    "dataset_FCREPO = refine_data(\"FCREPO\")\n",
    "dataset_ISLANDORA = refine_data(\"ISLANDORA\")"
   ]
  },
  {
   "cell_type": "code",
   "execution_count": null,
   "metadata": {},
   "outputs": [],
   "source": [
    "dataset_HADOOP"
   ]
  },
  {
   "cell_type": "code",
   "execution_count": 8,
   "metadata": {},
   "outputs": [],
   "source": [
    "augment_data(\"HADOOP\", dataset_HADOOP, 'char', aug_char_OCR, \"OCR\")"
   ]
  },
  {
   "cell_type": "code",
   "execution_count": 9,
   "metadata": {},
   "outputs": [],
   "source": [
    "augment_data(\"HADOOP\", dataset_HADOOP, 'char', aug_char_Keyboard, \"Keyboard\")"
   ]
  },
  {
   "cell_type": "code",
   "execution_count": 10,
   "metadata": {},
   "outputs": [],
   "source": [
    "augment_data(\"HADOOP\", dataset_HADOOP, 'word', aug_word_Spelling, \"Spelling\")"
   ]
  },
  {
   "cell_type": "code",
   "execution_count": 11,
   "metadata": {},
   "outputs": [
    {
     "name": "stderr",
     "output_type": "stream",
     "text": [
      "Token indices sequence length is longer than the specified maximum sequence length for this model (524 > 512). Running this sequence through the model will result in indexing errors\n"
     ]
    }
   ],
   "source": [
    "augment_data(\"HADOOP\", dataset_HADOOP, 'word', aug_word_ContextualWordEmbs, \"ContextualWordEmbs\")"
   ]
  },
  {
   "cell_type": "code",
   "execution_count": 12,
   "metadata": {},
   "outputs": [],
   "source": [
    "augment_data(\"HADOOP\", dataset_HADOOP, 'word', aug_word_Synonym, \"Synonym\")"
   ]
  },
  {
   "cell_type": "code",
   "execution_count": 13,
   "metadata": {},
   "outputs": [],
   "source": [
    "augment_data(\"HADOOP\", dataset_HADOOP, 'word', aug_word_Antonym, \"Antonym\")"
   ]
  },
  {
   "cell_type": "code",
   "execution_count": 14,
   "metadata": {},
   "outputs": [],
   "source": [
    "augment_data(\"HADOOP\", dataset_HADOOP, 'word', aug_word_Split, \"Split\")"
   ]
  },
  {
   "cell_type": "code",
   "execution_count": null,
   "metadata": {},
   "outputs": [],
   "source": [
    "augment_data(\"HADOOP\", dataset_HADOOP, 'word', aug_word_BackTranslation, \"BackTranslationAug\")"
   ]
  },
  {
   "cell_type": "markdown",
   "metadata": {},
   "source": [
    "# FCREPO"
   ]
  },
  {
   "cell_type": "code",
   "execution_count": 15,
   "metadata": {},
   "outputs": [],
   "source": [
    "augment_data(\"FCREPO\", dataset_FCREPO, 'char', aug_char_OCR, \"OCR\")"
   ]
  },
  {
   "cell_type": "code",
   "execution_count": 16,
   "metadata": {},
   "outputs": [],
   "source": [
    "augment_data(\"FCREPO\", dataset_FCREPO, 'char', aug_char_Keyboard, \"Keyboard\")"
   ]
  },
  {
   "cell_type": "code",
   "execution_count": 17,
   "metadata": {},
   "outputs": [],
   "source": [
    "augment_data(\"FCREPO\", dataset_FCREPO, 'word', aug_word_Spelling, \"Spelling\")"
   ]
  },
  {
   "cell_type": "code",
   "execution_count": 18,
   "metadata": {},
   "outputs": [],
   "source": [
    "augment_data(\"FCREPO\", dataset_FCREPO, 'word', aug_word_ContextualWordEmbs, \"ContextualWordEmbs\")"
   ]
  },
  {
   "cell_type": "code",
   "execution_count": 19,
   "metadata": {},
   "outputs": [],
   "source": [
    "augment_data(\"FCREPO\", dataset_FCREPO, 'word', aug_word_Synonym, \"Synonym\")"
   ]
  },
  {
   "cell_type": "code",
   "execution_count": 20,
   "metadata": {},
   "outputs": [],
   "source": [
    "augment_data(\"FCREPO\", dataset_FCREPO, 'word', aug_word_Antonym, \"Antonym\")"
   ]
  },
  {
   "cell_type": "code",
   "execution_count": 21,
   "metadata": {},
   "outputs": [],
   "source": [
    "augment_data(\"FCREPO\", dataset_FCREPO, 'word', aug_word_Split, \"Split\")"
   ]
  },
  {
   "cell_type": "markdown",
   "metadata": {},
   "source": [
    "# ISLANDORA"
   ]
  },
  {
   "cell_type": "code",
   "execution_count": 22,
   "metadata": {},
   "outputs": [],
   "source": [
    "augment_data(\"ISLANDORA\", dataset_ISLANDORA, 'char', aug_char_OCR, \"OCR\")"
   ]
  },
  {
   "cell_type": "code",
   "execution_count": 23,
   "metadata": {},
   "outputs": [],
   "source": [
    "augment_data(\"ISLANDORA\", dataset_ISLANDORA, 'char', aug_char_Keyboard, \"Keyboard\")"
   ]
  },
  {
   "cell_type": "code",
   "execution_count": 24,
   "metadata": {},
   "outputs": [],
   "source": [
    "augment_data(\"ISLANDORA\", dataset_ISLANDORA, 'word', aug_word_Spelling, \"Spelling\")"
   ]
  },
  {
   "cell_type": "code",
   "execution_count": 25,
   "metadata": {},
   "outputs": [],
   "source": [
    "augment_data(\"ISLANDORA\", dataset_ISLANDORA, 'word', aug_word_ContextualWordEmbs, \"ContextualWordEmbs\")"
   ]
  },
  {
   "cell_type": "code",
   "execution_count": 26,
   "metadata": {},
   "outputs": [],
   "source": [
    "augment_data(\"ISLANDORA\", dataset_ISLANDORA, 'word', aug_word_Synonym, \"Synonym\")"
   ]
  },
  {
   "cell_type": "code",
   "execution_count": 27,
   "metadata": {},
   "outputs": [],
   "source": [
    "augment_data(\"ISLANDORA\", dataset_ISLANDORA, 'word', aug_word_Antonym, \"Antonym\")"
   ]
  },
  {
   "cell_type": "code",
   "execution_count": 28,
   "metadata": {},
   "outputs": [],
   "source": [
    "augment_data(\"ISLANDORA\", dataset_ISLANDORA, 'word', aug_word_Split, \"Split\")"
   ]
  }
 ],
 "metadata": {
  "kernelspec": {
   "display_name": "Python 3.8.5 64-bit ('tf-gpu-cuda8': conda)",
   "metadata": {
    "interpreter": {
     "hash": "592d2365cf8c69d9089d1741d1cf6e338245e4159eff9ececf626c2bb7405064"
    }
   },
   "name": "python3"
  },
  "language_info": {
   "codemirror_mode": {
    "name": "ipython",
    "version": 3
   },
   "file_extension": ".py",
   "mimetype": "text/x-python",
   "name": "python",
   "nbconvert_exporter": "python",
   "pygments_lexer": "ipython3",
   "version": "3.8.5"
  },
  "orig_nbformat": 2
 },
 "nbformat": 4,
 "nbformat_minor": 2
}