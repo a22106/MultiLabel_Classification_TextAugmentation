{
 "metadata": {
  "language_info": {
   "codemirror_mode": {
    "name": "ipython",
    "version": 3
   },
   "file_extension": ".py",
   "mimetype": "text/x-python",
   "name": "python",
   "nbconvert_exporter": "python",
   "pygments_lexer": "ipython3",
   "version": "3.8.5"
  },
  "orig_nbformat": 2,
  "kernelspec": {
   "name": "python3",
   "display_name": "Python 3",
   "language": "python"
  }
 },
 "nbformat": 4,
 "nbformat_minor": 2,
 "cells": [
  {
   "source": [
    "!pip install nlpaug"
   ],
   "cell_type": "markdown",
   "metadata": {}
  },
  {
   "cell_type": "code",
   "execution_count": null,
   "metadata": {},
   "outputs": [],
   "source": [
    "import nlpaug.augmenter.char as nac\n",
    "import nlpaug.augmenter.word as naw\n",
    "import nlpaug.augmenter.sentence as nas\n",
    "\n",
    "import pandas as pd\n",
    "import sys\n",
    "import csv"
   ]
  },
  {
   "cell_type": "code",
   "execution_count": null,
   "metadata": {
    "tags": [
     "outputPrepend"
    ]
   },
   "outputs": [],
   "source": [
    "aug_Embeded = naw.ContextualWordEmbsAug(model_path = 'roberta-large', action = 'substitute')\n",
    "#augmented_text = aug_Embeded.augment([text])\n",
    "#print([text])\n",
    "#augmented_text"
   ]
  },
  {
   "cell_type": "code",
   "execution_count": null,
   "metadata": {},
   "outputs": [],
   "source": [
    "# 원본 HADOOP csv데이터 불러와서 정제하기\n",
    "issueReport = pd.read_csv(\"D:/OneDrive/GitHub/DeepSoft-C/DeepSoft-C/DeepSoft-C-main/Dataset/Data/HADOOP.csv\")\n",
    "issueOnehot = issueReport.drop(columns = ['issuekey', 'title', 'description', 'component'])\n",
    "\n",
    "issueLabel = []\n",
    "for i in range(len(issueOnehot)):\n",
    "    issueLabel.append(list(issueOnehot.iloc[i]))\n",
    "\n",
    "# make 'data' value\n",
    "data = issueReport\n",
    "\n",
    "issueText = pd.Series(list(issueReport[\"title\"] + ' ' + issueReport['description']), index = data.index)\n",
    "data['text'] = issueText\n",
    "\n",
    "data['labels'] = pd.Series(issueLabel, index = data.index)\n",
    "\n",
    "data = data.drop(columns = ['issuekey', 'title', 'description', 'component'])\n",
    "data = pd.DataFrame(data = {'text':issueText, 'labels': issueLabel})\n"
   ]
  },
  {
   "cell_type": "code",
   "execution_count": null,
   "metadata": {},
   "outputs": [],
   "source": [
    "# 정제된 데이터 text 리스트화\n",
    "data_list = []\n",
    "len(data['text'])\n",
    "for x in range(len(data['text'])):\n",
    "    data_list.append(data['text'][x])\n",
    "\n",
    "#AUG_INTERVAL = 2\n",
    "AUG_RANGE = len(data)"
   ]
  },
  {
   "source": [
    "# 원본 데이터 augmentation\n",
    "f = open('HADOOP_aug_mul3.csv', 'a', newline='', encoding='utf-8')\n",
    "wr = csv.writer(f)\n",
    "wr.writerow(data)\n",
    "for x in range(len(data)):\n",
    "    wr.writerow([data['text'][x], data['labels'][x]])\n",
    "\n",
    "for line in range(AUG_RANGE):\n",
    "    augmented_Embeded = aug_Embeded.augment(data['text'][line])\n",
    "    wr.writerow([augmented_Embeded, data['labels'][line]])\n",
    "f.close()"
   ],
   "cell_type": "markdown",
   "metadata": {}
  },
  {
   "cell_type": "code",
   "execution_count": null,
   "metadata": {},
   "outputs": [],
   "source": [
    "# augmentation 데이터 추가\n",
    "f = open('HADOOP_aug_mul3.csv', 'a', newline='', encoding='utf-8')\n",
    "wr = csv.writer(f)\n",
    "'''for x in range(len(data)):\n",
    "    wr.writerow([data['text'][x], data['labels'][x]])'''\n",
    "for x in range(2):\n",
    "    for line in range(1, AUG_RANGE):\n",
    "        augmented_Embeded = aug_Embeded.augment(data['text'][line])\n",
    "        wr.writerow([augmented_Embeded, data['labels'][line]])\n",
    "f.close()"
   ]
  },
  {
   "cell_type": "code",
   "execution_count": null,
   "metadata": {},
   "outputs": [],
   "source": []
  }
 ]
}