{
 "cells": [
  {
   "cell_type": "code",
   "execution_count": 2,
   "metadata": {},
   "outputs": [],
   "source": [
    "import numpy as np\r\n",
    "np.random.seed(1337)\r\n",
    "import json, re, nltk, string\r\n",
    "from nltk.corpus import wordnet\r\n",
    "from gensim.models import Word2Vec\r\n",
    "from keras.preprocessing import sequence\r\n",
    "from keras.models import Model\r\n",
    "from keras.layers import Dense, Dropout, Embedding, LSTM, Input, merge\r\n",
    "from keras.optimizers import RMSprop\r\n",
    "from keras.utils import np_utils\r\n",
    "from sklearn.feature_extraction.text import CountVectorizer\r\n",
    "from sklearn.feature_extraction.text import TfidfTransformer\r\n",
    "from sklearn.naive_bayes import MultinomialNB\r\n",
    "from sklearn import svm\r\n",
    "from sklearn.linear_model import LogisticRegression\r\n",
    "from sklearn.multiclass import OneVsRestClassifier\r\n",
    "from sklearn.metrics.pairwise import cosine_similarity"
   ]
  },
  {
   "cell_type": "code",
   "execution_count": 3,
   "metadata": {},
   "outputs": [],
   "source": [
    "import pandas as pd"
   ]
  },
  {
   "cell_type": "code",
   "execution_count": 5,
   "metadata": {},
   "outputs": [],
   "source": [
    "all_bugs_json = 'D:\\\\BugTriage\\\\Chrome\\\\all_data.json'\r\n",
    "closed_bugs_json = 'D:\\\\BugTriage\\\\Chrome\\\\classifier_data_0.json'"
   ]
  },
  {
   "cell_type": "code",
   "execution_count": 6,
   "metadata": {},
   "outputs": [],
   "source": [
    "with open(all_bugs_json) as data_file:\r\n",
    "    data = json.load(data_file, strict=False)\r\n"
   ]
  },
  {
   "cell_type": "code",
   "execution_count": 7,
   "metadata": {},
   "outputs": [],
   "source": [
    "data_id= list()\r\n",
    "data_issueId = list()\r\n",
    "data_issueTitle = list()\r\n",
    "data_reportedTime = list()\r\n",
    "data_owner = list()\r\n",
    "data_description = list()\r\n",
    "\r\n",
    "data_des = []\r\n",
    "\r\n",
    "for i in range(len(data)):\r\n",
    "    data_id.append(data[i]['id'])\r\n",
    "    data_issueId.append(data[i]['issue_id'])\r\n",
    "    data_issueTitle.append(data[i]['issue_title'])\r\n",
    "    data_reportedTime.append(data[i]['reported_time'])\r\n",
    "    data_owner.append(data[i]['owner'])\r\n",
    "    data_des.append(data[i]['description'])"
   ]
  },
  {
   "cell_type": "markdown",
   "metadata": {},
   "source": [
    "for item in data_des:\r\n",
    "    current_desc = item.replace('\\r', ' ')\r\n",
    "    current_desc = current_desc.replace('\\n', ' ')    \r\n",
    "    current_desc = re.sub(r'http[s]?://(?:[a-zA-Z]|[0-9]|[$-_@.&+]|[!*\\(\\),]|(?:%[0-9a-fA-F][0-9a-fA-F]))+', '', current_desc)\r\n",
    "    current_desc = current_desc[:start_loc]  \r\n",
    "    current_desc = re.sub(r'(\\w+)0x\\w+', '', current_desc)\r\n",
    "    current_desc = current_desc.lower()\r\n",
    "    current_desc_tokens = nltk.word_tokenize(current_desc)\r\n",
    "    current_desc_filter = [word.strip(string.punctuation) for word in current_desc_tokens]\r\n",
    "\r\n",
    "    data_description.append(current_desc)"
   ]
  },
  {
   "cell_type": "code",
   "execution_count": 8,
   "metadata": {},
   "outputs": [],
   "source": [
    "for item in data:\r\n",
    "    current_title = item['issue_title'].replace('\\r', ' ')\r\n",
    "    current_desc = item['description'].replace('\\r', ' ')\r\n",
    "    current_desc = current_desc.replace('\\n', ' ')\r\n",
    "\r\n",
    "    current_desc = re.sub(r'http[s]?://(?:[a-zA-Z]|[0-9]|[$-_@.&+]|[!*\\(\\),]|(?:%[0-9a-fA-F][0-9a-fA-F]))+', '', current_desc)\r\n",
    "\r\n",
    "    start_loc = current_desc.find(\"Stack trace:\")\r\n",
    "    current_desc = current_desc[:start_loc]\r\n",
    "    \r\n",
    "\r\n",
    "    current_desc = re.sub(r'(\\w+)0x\\w+', '', current_desc)\r\n",
    "    current_title= re.sub(r'(\\w+)0x\\w+', '', current_title)\r\n",
    "\r\n",
    "    current_desc = current_desc.lower()\r\n",
    "    current_title = current_title.lower()\r\n",
    "    #print(current_title)\r\n",
    "\r\n",
    "    current_desc = current_title + current_desc\r\n",
    "    #print(current_desc)\r\n",
    "    '''current_desc_tokens = nltk.word_tokenize(current_desc)\r\n",
    "    current_title_tokens = nltk.word_tokenize(current_title)\r\n",
    "    print(current_desc_tokens)\r\n",
    "    current_desc_filter = [word.strip(string.punctuation) for word in current_desc_tokens]\r\n",
    "    current_title_filter = [word.strip(string.punctuation) for word in current_title_tokens]      \r\n",
    "\r\n",
    "    current_data = current_title_filter + current_desc_filter\r\n",
    "    current_data = filter(None, current_data)'''\r\n",
    "\r\n",
    "    data_description.append(current_desc)"
   ]
  },
  {
   "cell_type": "code",
   "execution_count": null,
   "metadata": {},
   "outputs": [],
   "source": [
    "data_description"
   ]
  },
  {
   "cell_type": "code",
   "execution_count": 12,
   "metadata": {},
   "outputs": [
    {
     "data": {
      "text/plain": "['',\n '',\n 'amit@chromium.org',\n '',\n '',\n 'venkataramana@chromium.org',\n '',\n '',\n '',\n 'mal.chro...@gmail.com',\n '',\n '',\n '',\n '',\n '',\n '',\n 'aa@chromium.org',\n 'cbentzel@chromium.org',\n '',\n 'eroman@chromium.org',\n '',\n '',\n 'jon@chromium.org',\n 'pfeldman@chromium.org',\n '',\n '',\n '',\n '',\n '',\n 'eroman@chromium.org',\n '',\n '',\n 'jon@chromium.org',\n 'pkasting@chromium.org',\n '',\n 'jon@chromium.org',\n '',\n 'kuchhal@chromium.org',\n '',\n 'jon@chromium.org',\n '',\n '',\n '',\n '',\n '',\n '',\n '',\n 'brettw@chromium.org',\n '',\n 'jon@chromium.org',\n '',\n '',\n '',\n '',\n '',\n '',\n '',\n '',\n 'amit@chromium.org',\n 'ben@chromium.org',\n '',\n 'thestig@chromium.org',\n '',\n 'sky@chromium.org',\n 'sky@chromium.org',\n '',\n 'mal.chro...@gmail.com',\n '',\n '',\n '',\n '',\n '',\n '',\n '',\n '',\n 'darin@chromium.org',\n 'ben@chromium.org',\n 'amit@chromium.org',\n 'thestig@chromium.org',\n '',\n '',\n '',\n 'thestig@chromium.org',\n '',\n 'venkataramana@chromium.org',\n 'sky@chromium.org',\n '',\n 'dcheng@chromium.org',\n '',\n '',\n '',\n '',\n '',\n 'mal.chro...@gmail.com',\n '',\n '',\n '',\n '',\n 'mar...@chromium.org',\n '',\n '',\n '',\n '',\n '',\n 'tonyg@chromium.org',\n '',\n '',\n 'fsam...@chromium.org',\n '',\n 'aa@chromium.org',\n '',\n '',\n '',\n '',\n 'cbentzel@chromium.org',\n 'sanjoy....@samsung.com',\n '',\n '',\n '',\n '',\n 'eroman@chromium.org',\n 'jcivelli@chromium.org',\n '',\n '',\n '',\n '',\n '',\n 'fsam...@chromium.org',\n '',\n 'jon@chromium.org',\n 'rjkro...@chromium.org',\n '',\n 'pfeldman@chromium.org',\n '',\n 'danakj@chromium.org',\n '',\n '',\n '',\n '',\n '',\n '',\n '',\n '',\n 'bryeung@chromium.org',\n '',\n '',\n '',\n '',\n '',\n 'eroman@chromium.org',\n '',\n '',\n '',\n '',\n '',\n 'reve...@chromium.org',\n 'yutak@chromium.org',\n 'dgarr...@chromium.org',\n '',\n 'jon@chromium.org',\n 'backer@chromium.org',\n 'jamescook@chromium.org',\n 'pkasting@chromium.org',\n '',\n 'rsesek@chromium.org',\n 'jrbarnette@chromium.org',\n '',\n '',\n 'bauerb@chromium.org',\n 'msb@chromium.org',\n '',\n 'jon@chromium.org',\n 'fmalita@chromium.org',\n '',\n 'reve...@chromium.org',\n '',\n 'scherkus@chromium.org',\n '',\n 'glider@chromium.org',\n 'achuith@chromium.org',\n '',\n '',\n 'kuchhal@chromium.org',\n 'tkent@chromium.org',\n 'truty@chromium.org',\n '',\n '',\n '',\n '',\n 'piman@chromium.org',\n 'fbarchard@chromium.org',\n '',\n 'vtodkari@chromium.org',\n 'jon@chromium.org',\n '',\n 'arv@chromium.org',\n 'avayvod@chromium.org',\n 'timurrrr@chromium.org',\n '',\n 'sky@chromium.org',\n '',\n '',\n 'wtc@chromium.org',\n '',\n 'achuith@chromium.org',\n '',\n '',\n '',\n 'erikwright@chromium.org',\n 'sjg@chromium.org',\n '',\n '',\n '',\n 'ymalik@chromium.org',\n '',\n '',\n '',\n 'reve...@chromium.org',\n 'ben@chromium.org',\n '',\n '',\n 'achuith@chromium.org',\n '',\n '',\n '',\n '',\n 'semenzato@chromium.org',\n '',\n '',\n 'brettw@chromium.org',\n 'achuith@chromium.org',\n 'estade@chromium.org',\n '',\n '',\n '',\n 'sgabr...@chromium.org',\n '',\n 'gbillock@chromium.org',\n 'jon@chromium.org',\n '',\n '',\n '',\n '',\n '',\n 'jimhebert@chromium.org',\n 'scheib@chromium.org',\n '',\n 'lzheng@chromium.org',\n 'nkostylev@chromium.org',\n '',\n 'erikwright@chromium.org',\n '',\n 'pkotw...@chromium.org',\n 'grundler@chromium.org',\n '',\n '',\n '',\n '',\n '',\n 'phajdan.jr@chromium.org',\n '',\n '',\n '',\n 'huanr@chromium.org',\n 'marc...@chromium.org',\n '',\n '',\n '',\n 'rcui@chromium.org',\n '',\n '',\n '',\n '',\n 'vtodkari@chromium.org',\n 'erikwright@chromium.org',\n 'rsesek@chromium.org',\n 'vandebo@chromium.org',\n '',\n '',\n '',\n '',\n 'mnissler@chromium.org',\n 'mhm@chromium.org',\n '',\n 'pmarch@chromium.org',\n '',\n 'rcui@chromium.org',\n '',\n '',\n '',\n 'sosa@chromium.org',\n 'gwilson@chromium.org',\n '',\n '',\n 'ihf@chromium.org',\n 'derat@chromium.org',\n '',\n '',\n '',\n 'mnissler@chromium.org',\n 'scot...@chromium.org',\n 'annapop@chromium.org',\n '',\n 'mnissler@chromium.org',\n 'finnur@chromium.org',\n '',\n 'bryeung@chromium.org',\n 'jon@chromium.org',\n 'gwilson@chromium.org',\n '',\n '',\n 'wtc@chromium.org',\n 'mirandac@chromium.org',\n '',\n 'kjellan...@chromium.org',\n '',\n '',\n 'rsesek@chromium.org',\n 'tessamac@chromium.org',\n 'ben@chromium.org',\n 'rajeevkumar@chromium.org',\n 'a...@chromium.org',\n 'dhollowa@chromium.org',\n '',\n 'trond@chromium.org',\n 'yosin@chromium.org',\n 'cbentzel@chromium.org',\n '',\n '',\n 'dilmah@chromium.org',\n '',\n 'mstarzinger@chromium.org',\n '',\n 'petewil@chromium.org',\n '',\n 'yusukes@chromium.org',\n 'mar...@chromium.org',\n 'lipalani@chromium.org',\n '',\n 'rspangler@chromium.org',\n '',\n '',\n 'lipalani@chromium.org',\n 'arkaitzr@chromium.org',\n 'jhawkins@chromium.org',\n 'infe...@chromium.org',\n 'eroman@chromium.org',\n 'a...@chromium.org',\n 'joshwoodward@chromium.org',\n '',\n 'agl@chromium.org',\n 'rvargas@chromium.org',\n '',\n '',\n '',\n '',\n 'jochen@chromium.org',\n 'msb@chromium.org',\n 'brettw@chromium.org',\n '',\n '',\n '',\n 'mar...@chromium.org',\n '',\n 'cmasone@chromium.org',\n '',\n 'bauerb@chromium.org',\n 'meacer@chromium.org',\n 'eroman@chromium.org',\n 'cmp@chromium.org',\n 'sky@chromium.org',\n 'tha...@chromium.org',\n '',\n '',\n 'tha...@chromium.org',\n 'powei@chromium.org',\n 'benchan@chromium.org',\n 'podivilov@chromium.org',\n 'jochen@chromium.org',\n '',\n 'ihf@chromium.org',\n 'erikcorry@google.com',\n 'eroman@chromium.org',\n 'raymes@chromium.org',\n 'piman@chromium.org',\n '',\n 'iannucci@chromium.org',\n '',\n 'satorux@chromium.org',\n '',\n '',\n 'avayvod@chromium.org',\n '',\n 'finnur@chromium.org',\n 'danno@chromium.org',\n 'petkov@chromium.org',\n '',\n 'erikwright@chromium.org',\n '',\n '',\n 'erikwright@chromium.org',\n '',\n 'petkov@chromium.org',\n '',\n 'sanjeevr@chromium.org',\n '',\n '',\n 'petkov@chromium.org',\n '',\n '',\n '',\n 'lipalani@chromium.org',\n 'mirandac@chromium.org',\n '',\n '',\n 'mirandac@chromium.org',\n '',\n 'vangelis@chromium.org',\n 'wtc@chromium.org',\n 'arkaitzr@chromium.org',\n '',\n '',\n 'phajdan.jr@chromium.org',\n 'all-bugs...@gtempaccount.com',\n 'sleffler@chromium.org',\n 'alyssad@chromium.org',\n 'erikwright@chromium.org',\n 'aa@chromium.org',\n 'rspangler@chromium.org',\n 'pkasting@chromium.org',\n 'sky@chromium.org',\n 'wtc@chromium.org',\n 'satyanarayanav@chromium.org',\n 'hbono@chromium.org',\n '',\n '',\n '',\n 'jam@chromium.org',\n 'mrossetti@chromium.org',\n 'szager@chromium.org',\n '',\n '',\n 'jhawkins@chromium.org',\n '',\n 'varkha@chromium.org',\n '',\n 'jamescook@chromium.org',\n 'jcampan@chromium.org',\n '',\n '',\n 'dschimmels@chromium.org',\n 'nklee@chromium.org',\n '',\n '',\n '',\n '',\n 'kbr@chromium.org',\n 'reve...@chromium.org',\n '',\n '',\n 'stanleyw@chromium.org',\n 'derat@chromium.org',\n '',\n '',\n 'sosa@chromium.org',\n 'sky@chromium.org',\n 'mal.chro...@gmail.com',\n 'jrbarnette@chromium.org',\n 'reve...@chromium.org',\n 'pkasting@chromium.org',\n 'e...@chromium.org',\n '',\n '',\n '',\n '',\n 'akes...@chromium.org',\n '',\n '',\n '',\n '',\n '',\n '',\n '',\n '',\n '',\n '',\n '',\n '',\n '',\n '',\n 'erikwright@chromium.org',\n '',\n 'niranjan@chromium.org',\n 'scottz@chromium.org',\n 'jar@chromium.org',\n 'erikwright@chromium.org',\n '',\n 'kevers@chromium.org',\n 'js...@chromium.org',\n '',\n 'sosa@chromium.org',\n '',\n 'glen@chromium.org',\n 'rsimha@chromium.org',\n '',\n 'reve...@chromium.org',\n 'erikwright@chromium.org',\n '',\n '',\n '',\n 'sky@chromium.org',\n '',\n '',\n '',\n '',\n '',\n 'fukino@chromium.org',\n 'zelidrag@chromium.org',\n '',\n '',\n '',\n 'rob.b...@samsung.com',\n '',\n 'hungte@chromium.org',\n '',\n '',\n 'dominicc@chromium.org',\n '',\n '',\n '',\n 'kalman@chromium.org',\n 'ddorwin@chromium.org',\n '',\n '',\n '',\n 'jrumm...@chromium.org',\n '',\n 'jon@chromium.org',\n '',\n '',\n '',\n 'cevans@chromium.org',\n '',\n 'jam@chromium.org',\n '',\n 'sosa@chromium.org',\n '',\n '',\n 'osh...@chromium.org',\n 'viettrungluu@chromium.org',\n 'avayvod@chromium.org',\n '',\n '',\n '',\n 'sail@chromium.org',\n '',\n 'xiy...@chromium.org',\n 'hclam@chromium.org',\n 'timurrrr@chromium.org',\n 'scherkus@chromium.org',\n '',\n 'ananta@chromium.org',\n 'msb@chromium.org',\n '',\n '',\n '',\n 'rvargas@chromium.org',\n 'xiy...@chromium.org',\n '',\n '',\n '',\n 'erikwright@chromium.org',\n 'rspangler@chromium.org',\n 'aa@chromium.org',\n '',\n 'zelidrag@chromium.org',\n 'sleffler@chromium.org',\n '',\n 'vollick@chromium.org',\n 'jamescook@chromium.org',\n '',\n 'deanm@chromium.org',\n '',\n 'mtennant@chromium.org',\n '',\n '',\n '',\n '',\n '',\n '',\n '',\n '',\n '',\n '',\n 'tonyg@chromium.org',\n '',\n '',\n '',\n '',\n '',\n '',\n 'sleffler@chromium.org',\n '',\n 'abarth@chromium.org',\n '',\n 'jon@chromium.org',\n 'adlr@chromium.org',\n '',\n 'benwells@chromium.org',\n 'kathyw@chromium.org',\n 'rspangler@chromium.org',\n '',\n '',\n '',\n 'ryant@chromium.org',\n 'eroman@chromium.org',\n 'willchan@chromium.org',\n '',\n 'weitaosu@chromium.org',\n 'nsanders@chromium.org',\n '',\n 'eroman@chromium.org',\n 'osh...@chromium.org',\n '',\n 'benhenry@chromium.org',\n 'jon@chromium.org',\n '',\n 'dtu@chromium.org',\n '',\n 'kuchhal@chromium.org',\n 'rspangler@chromium.org',\n '',\n '',\n '',\n 'pastarmovj@chromium.org',\n 'sadrul@chromium.org',\n 'tony@chromium.org',\n '',\n 'antonm@chromium.org',\n 'pastarmovj@chromium.org',\n 'estade@chromium.org',\n '',\n '',\n '',\n 'penghuang@chromium.org',\n 'jar@chromium.org',\n 'wtc@chromium.org',\n '',\n 'mnissler@chromium.org',\n 'bauerb@chromium.org',\n 'annapop@chromium.org',\n 'jon@chromium.org',\n 'jsb...@chromium.org',\n '',\n '',\n 'mgaba@chromium.org',\n '',\n 'reve...@chromium.org',\n '',\n 'pinkerton@chromium.org',\n '',\n 'semenzato@chromium.org',\n '',\n 'rvargas@chromium.org',\n 'zturner@chromium.org',\n '',\n '',\n '',\n 'bshe@chromium.org',\n 'rspangler@chromium.org',\n 'robertphillips@chromium.org',\n '',\n 'tpayne@chromium.org',\n '',\n 'sh...@chromium.org',\n '',\n '',\n 'benwells@chromium.org',\n '',\n '',\n 'sky@chromium.org',\n '',\n '',\n '',\n 'thieule@chromium.org',\n '',\n '',\n 'sosa@chromium.org',\n 'rspangler@chromium.org',\n 'ananta@chromium.org',\n '',\n '',\n 'jbates@chromium.org',\n 'piman@chromium.org',\n 'juliatut...@chromium.org',\n '',\n 'vitalyr@chromium.org',\n '',\n '',\n 'binji@chromium.org',\n 'brian@chromium.org',\n '',\n 'cpu@chromium.org',\n 'dgozman@chromium.org',\n '',\n 'davidben@chromium.org',\n '',\n '',\n 'caseq@chromium.org',\n '',\n '',\n '',\n '',\n '',\n 'derat@chromium.org',\n '',\n '',\n '',\n 'tsepez@chromium.org',\n '',\n 'scottz@chromium.org',\n 'jsc...@chromium.org',\n '',\n '',\n 'jamescook@chromium.org',\n 'noelallen@chromium.org',\n '',\n '',\n '',\n 'rginda@chromium.org',\n 'junov@chromium.org',\n '',\n 'kbr@chromium.org',\n 'ben@chromium.org',\n 'tbroch@chromium.org',\n 'rob.b...@samsung.com',\n 'mpcomplete@chromium.org',\n '',\n 'evan@chromium.org',\n 'thestig@chromium.org',\n 'scheib@chromium.org',\n 'serya@chromium.org',\n '',\n '',\n 'mikelawther@chromium.org',\n '',\n '',\n '',\n 'steve...@chromium.org',\n '',\n '',\n 'mkrebs@chromium.org',\n 'bsalo...@google.com',\n 'eroman@chromium.org',\n '',\n 'zmo@chromium.org',\n '',\n 'jam@chromium.org',\n '',\n '',\n 'hychao@chromium.org',\n 'sjg@chromium.org',\n 'anan...@chromium.org',\n '',\n '',\n '',\n 'gabeblack@chromium.org',\n 'brettw@chromium.org',\n 'caseq@chromium.org',\n '',\n 'rdsmith@chromium.org',\n '',\n 'reed@google.com',\n '',\n '',\n '',\n '',\n '',\n '',\n '',\n '',\n '',\n 'ananta@chromium.org',\n '',\n '',\n 'kuchhal@chromium.org',\n 'cmumford@chromium.org',\n 'szager@chromium.org',\n 'annapop@chromium.org',\n '',\n 'kinaba@chromium.org',\n 'kuchhal@chromium.org',\n '',\n '',\n '',\n 'satyanarayanav@chromium.org',\n 'wtc@chromium.org',\n '',\n '',\n '',\n '',\n 'georgesak@chromium.org',\n 'jsb...@chromium.org',\n '',\n 'kinaba@chromium.org',\n '',\n 'reve...@chromium.org',\n '',\n 'vivianz@chromium.org',\n 'bashi@chromium.org',\n '',\n '',\n 'mkwst@chromium.org',\n 'kouhei@chromium.org',\n 'jon@chromium.org',\n '',\n 'asargent@chromium.org',\n 'niranjan@chromium.org',\n '',\n 'shenghao@chromium.org',\n 'glotov@chromium.org',\n 'e...@chromium.org',\n 'yu...@chromium.org',\n 'eroman@chromium.org',\n '',\n '',\n '',\n '',\n 'thestig@chromium.org',\n '',\n '',\n 'no...@chromium.org',\n '',\n '',\n 'sjg@chromium.org',\n '',\n 'scottbyer@chromium.org',\n '',\n '',\n 'nkostylev@chromium.org',\n '',\n 'jon@chromium.org',\n '',\n 'semenzato@chromium.org',\n '',\n '',\n '',\n 'xiy...@chromium.org',\n '',\n '',\n '',\n '',\n 'gwilson@chromium.org',\n '',\n '',\n '',\n 'grt@chromium.org',\n '',\n 'trond@chromium.org',\n 'eustas@chromium.org',\n '',\n '',\n 'sjg@chromium.org',\n '',\n '',\n 'sjg@chromium.org',\n '',\n '',\n 'msw@chromium.org',\n '',\n 'sjg@chromium.org',\n '',\n 'ben@chromium.org',\n '',\n 'clchiou@chromium.org',\n '',\n '',\n 'tkent@chromium.org',\n 'sjg@chromium.org',\n 'robertshield@chromium.org',\n 'eroman@chromium.org',\n '',\n 'erikc...@chromium.org',\n 'sail@chromium.org',\n '',\n 'sjg@chromium.org',\n '',\n '',\n '',\n 'sidor@chromium.org',\n 'ricow@chromium.org',\n '',\n '',\n '',\n 'sjg@chromium.org',\n 'zelidrag@chromium.org',\n '',\n '',\n '',\n 'vitalyb...@chromium.org',\n '',\n 'joshwoodward@chromium.org',\n '',\n '',\n 'tkent@chromium.org',\n 'sjg@chromium.org',\n 'kenrb@chromium.org',\n '',\n '',\n '',\n '',\n '',\n 'robotboy@chromium.org',\n '',\n 'tdres...@chromium.org',\n 'sjg@chromium.org',\n '',\n '',\n '',\n '',\n '',\n 'clchiou@chromium.org',\n 'apavlov@chromium.org',\n '',\n '',\n 'annapop@chromium.org',\n '',\n 'sidor@chromium.org',\n '',\n 'e...@chromium.org',\n '',\n '',\n 'earthdok@chromium.org',\n '',\n 'puneetster@chromium.org',\n 'junov@chromium.org',\n '',\n '',\n 'sidor@chromium.org',\n 'tsergeant@chromium.org',\n '',\n '',\n 'bauerb@chromium.org',\n 'sidor@chromium.org',\n 'steve...@chromium.org',\n '',\n '',\n 'sidor@chromium.org',\n 'xiy...@chromium.org',\n '',\n '',\n '',\n 'vsevik@chromium.org',\n '',\n 'sque@chromium.org',\n 'jennb@chromium.org',\n 'dutton@chromium.org',\n '',\n '',\n '',\n 'xiy...@chromium.org',\n 'sadrul@chromium.org',\n 'scottbyer@chromium.org',\n 'niranjan@chromium.org',\n '',\n 'sjg@chromium.org',\n 'ananta@chromium.org',\n 'akalin@chromium.org',\n '',\n 'jrbarnette@chromium.org',\n '',\n 'ananta@chromium.org',\n '',\n 'rginda@chromium.org',\n '',\n 'jsb...@chromium.org',\n 'anan...@chromium.org',\n 'zea@chromium.org',\n 'caseq@chromium.org',\n '',\n 'achuith@chromium.org',\n '',\n '',\n '',\n '',\n 'achuith@chromium.org',\n '',\n 'x...@chromium.org',\n '',\n '',\n '',\n 'weiliangc@chromium.org',\n '',\n '',\n '',\n '',\n 'vitalyb...@chromium.org',\n '',\n '',\n '',\n ...]"
     },
     "execution_count": 12,
     "metadata": {},
     "output_type": "execute_result"
    }
   ],
   "source": [
    "data_owner"
   ]
  },
  {
   "cell_type": "code",
   "execution_count": null,
   "metadata": {},
   "outputs": [],
   "source": [
    "issue_data = pd.DataFrame(data = {'issue_title': issue_title, 'description': description})\r\n",
    "r"
   ]
  }
 ],
 "metadata": {
  "kernelspec": {
   "display_name": "Python 3.8.5 64-bit ('tf-gpu-cuda8': conda)",
   "metadata": {
    "interpreter": {
     "hash": "592d2365cf8c69d9089d1741d1cf6e338245e4159eff9ececf626c2bb7405064"
    }
   },
   "name": "python3"
  },
  "language_info": {
   "codemirror_mode": {
    "name": "ipython",
    "version": 3
   },
   "file_extension": ".py",
   "mimetype": "text/x-python",
   "name": "python",
   "nbconvert_exporter": "python",
   "pygments_lexer": "ipython3",
   "version": "3.8.5"
  },
  "orig_nbformat": 2
 },
 "nbformat": 4,
 "nbformat_minor": 2
}