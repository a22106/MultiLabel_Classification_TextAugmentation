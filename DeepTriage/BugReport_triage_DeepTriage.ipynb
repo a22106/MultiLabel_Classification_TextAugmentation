{
 "cells": [
  {
   "cell_type": "code",
   "execution_count": 1,
   "metadata": {},
   "outputs": [],
   "source": [
    "import numpy as np\r\n",
    "np.random.seed(1337)\r\n",
    "import json, re, nltk, string\r\n",
    "from nltk.corpus import wordnet\r\n",
    "from gensim.models import Word2Vec\r\n",
    "from keras.preprocessing import sequence\r\n",
    "from keras.models import Model\r\n",
    "from keras.layers import Dense, Dropout, Embedding, LSTM, Input, merge\r\n",
    "from keras.optimizers import RMSprop\r\n",
    "from keras.utils import np_utils\r\n",
    "from sklearn.feature_extraction.text import CountVectorizer\r\n",
    "from sklearn.feature_extraction.text import TfidfTransformer\r\n",
    "from sklearn.naive_bayes import MultinomialNB\r\n",
    "from sklearn import svm\r\n",
    "from sklearn.linear_model import LogisticRegression\r\n",
    "from sklearn.multiclass import OneVsRestClassifier\r\n",
    "from sklearn.metrics.pairwise import cosine_similarity"
   ]
  },
  {
   "cell_type": "code",
   "execution_count": 2,
   "metadata": {},
   "outputs": [],
   "source": [
    "import pandas as pd"
   ]
  },
  {
   "cell_type": "code",
   "execution_count": 3,
   "metadata": {},
   "outputs": [],
   "source": [
    "all_bugs_json = 'D:\\\\BugTriage\\\\Chrome\\\\all_data.json'\r\n",
    "closed_bugs_json = 'D:\\\\BugTriage\\\\Chrome\\\\classifier_data_0.json'"
   ]
  },
  {
   "cell_type": "code",
   "execution_count": 4,
   "metadata": {},
   "outputs": [],
   "source": [
    "with open(all_bugs_json) as data_file:\r\n",
    "    data = json.load(data_file, strict=False)\r\n"
   ]
  },
  {
   "cell_type": "code",
   "execution_count": 5,
   "metadata": {},
   "outputs": [],
   "source": [
    "data_id= list()\r\n",
    "data_issueId = list()\r\n",
    "data_issueTitle = list()\r\n",
    "data_reportedTime = list()\r\n",
    "data_owner = list()\r\n",
    "data_description = list()\r\n",
    "\r\n",
    "data_des = []\r\n",
    "\r\n",
    "for i in range(len(data)):\r\n",
    "    data_id.append(data[i]['id'])\r\n",
    "    data_issueId.append(data[i]['issue_id'])\r\n",
    "    data_issueTitle.append(data[i]['issue_title'])\r\n",
    "    data_reportedTime.append(data[i]['reported_time'])\r\n",
    "    data_owner.append(data[i]['owner'])\r\n",
    "    data_des.append(data[i]['description'])"
   ]
  },
  {
   "cell_type": "markdown",
   "metadata": {},
   "source": [
    "for item in data_des:\r\n",
    "    current_desc = item.replace('\\r', ' ')\r\n",
    "    current_desc = current_desc.replace('\\n', ' ')    \r\n",
    "    current_desc = re.sub(r'http[s]?://(?:[a-zA-Z]|[0-9]|[$-_@.&+]|[!*\\(\\),]|(?:%[0-9a-fA-F][0-9a-fA-F]))+', '', current_desc)\r\n",
    "    current_desc = current_desc[:start_loc]  \r\n",
    "    current_desc = re.sub(r'(\\w+)0x\\w+', '', current_desc)\r\n",
    "    current_desc = current_desc.lower()\r\n",
    "    current_desc_tokens = nltk.word_tokenize(current_desc)\r\n",
    "    current_desc_filter = [word.strip(string.punctuation) for word in current_desc_tokens]\r\n",
    "\r\n",
    "    data_description.append(current_desc)"
   ]
  },
  {
   "cell_type": "code",
   "execution_count": 6,
   "metadata": {},
   "outputs": [],
   "source": [
    "for item in data:\r\n",
    "    current_title = item['issue_title'].replace('\\r', ' ')\r\n",
    "    current_desc = item['description'].replace('\\r', ' ')\r\n",
    "    current_desc = current_desc.replace('\\n', ' ')\r\n",
    "\r\n",
    "    current_desc = re.sub(r'http[s]?://(?:[a-zA-Z]|[0-9]|[$-_@.&+]|[!*\\(\\),]|(?:%[0-9a-fA-F][0-9a-fA-F]))+', '', current_desc)\r\n",
    "\r\n",
    "    start_loc = current_desc.find(\"Stack trace:\")\r\n",
    "    current_desc = current_desc[:start_loc]\r\n",
    "    \r\n",
    "\r\n",
    "    current_desc = re.sub(r'(\\w+)0x\\w+', '', current_desc)\r\n",
    "    current_title= re.sub(r'(\\w+)0x\\w+', '', current_title)\r\n",
    "\r\n",
    "    current_desc = current_desc.lower()\r\n",
    "    current_title = current_title.lower()\r\n",
    "    #print(current_title)\r\n",
    "\r\n",
    "    current_desc = current_title + current_desc\r\n",
    "    #print(current_desc)\r\n",
    "    '''current_desc_tokens = nltk.word_tokenize(current_desc)\r\n",
    "    current_title_tokens = nltk.word_tokenize(current_title)\r\n",
    "    print(current_desc_tokens)\r\n",
    "    current_desc_filter = [word.strip(string.punctuation) for word in current_desc_tokens]\r\n",
    "    current_title_filter = [word.strip(string.punctuation) for word in current_title_tokens]      \r\n",
    "\r\n",
    "    current_data = current_title_filter + current_desc_filter\r\n",
    "    current_data = filter(None, current_data)'''\r\n",
    "\r\n",
    "    data_description.append(current_desc)"
   ]
  },
  {
   "cell_type": "code",
   "execution_count": 16,
   "metadata": {},
   "outputs": [],
   "source": [
    "deepTriage = pd.DataFrame(data = {'id':data_id, 'issue_id':data_issueId, 'issue_title':data_issueTitle, 'report_time':data_reportedTime, 'owner':data_owner, 'description':data_description})"
   ]
  },
  {
   "cell_type": "code",
   "execution_count": 18,
   "metadata": {},
   "outputs": [
    {
     "data": {
      "text/html": "<div>\n<style scoped>\n    .dataframe tbody tr th:only-of-type {\n        vertical-align: middle;\n    }\n\n    .dataframe tbody tr th {\n        vertical-align: top;\n    }\n\n    .dataframe thead th {\n        text-align: right;\n    }\n</style>\n<table border=\"1\" class=\"dataframe\">\n  <thead>\n    <tr style=\"text-align: right;\">\n      <th></th>\n      <th>id</th>\n      <th>issue_id</th>\n      <th>issue_title</th>\n      <th>report_time</th>\n      <th>owner</th>\n      <th>description</th>\n    </tr>\n  </thead>\n  <tbody>\n    <tr>\n      <th>0</th>\n      <td>1</td>\n      <td>2</td>\n      <td>Testing if chromium id works</td>\n      <td>2008-08-30 16:00:21</td>\n      <td></td>\n      <td>testing if chromium id works what steps will r...</td>\n    </tr>\n    <tr>\n      <th>1</th>\n      <td>2</td>\n      <td>3</td>\n      <td>This is a test</td>\n      <td>2008-08-31 02:47:11</td>\n      <td></td>\n      <td>this is a test product version      : 0.2.149....</td>\n    </tr>\n    <tr>\n      <th>2</th>\n      <td>3</td>\n      <td>4</td>\n      <td>Scrolling with some scroll mice (touchpad, etc...</td>\n      <td>2008-09-02 19:02:31</td>\n      <td>amit@chromium.org</td>\n      <td>scrolling with some scroll mice (touchpad, etc...</td>\n    </tr>\n    <tr>\n      <th>3</th>\n      <td>4</td>\n      <td>5</td>\n      <td>Java not working yet</td>\n      <td>2008-09-02 19:04:27</td>\n      <td></td>\n      <td>java not working yet product version      : 0....</td>\n    </tr>\n    <tr>\n      <th>4</th>\n      <td>5</td>\n      <td>6</td>\n      <td>Chrome treats links in frames differently than...</td>\n      <td>2008-09-02 19:08:01</td>\n      <td></td>\n      <td>chrome treats links in frames differently than...</td>\n    </tr>\n    <tr>\n      <th>...</th>\n      <td>...</td>\n      <td>...</td>\n      <td>...</td>\n      <td>...</td>\n      <td>...</td>\n      <td>...</td>\n    </tr>\n    <tr>\n      <th>383099</th>\n      <td>383100</td>\n      <td>349995</td>\n      <td>Windows GPU bots failing on multiple tests</td>\n      <td>2014-03-06 18:42:28</td>\n      <td>ernstm@chromium.org</td>\n      <td>windows gpu bots failing on multiple tests all...</td>\n    </tr>\n    <tr>\n      <th>383100</th>\n      <td>383101</td>\n      <td>349996</td>\n      <td>Pop-up window from inside Flash Player not wor...</td>\n      <td>2014-03-06 18:42:58</td>\n      <td></td>\n      <td>pop-up window from inside flash player not wor...</td>\n    </tr>\n    <tr>\n      <th>383101</th>\n      <td>383102</td>\n      <td>349997</td>\n      <td>URL blacklist policy can't filter by query par...</td>\n      <td>2014-03-06 18:43:00</td>\n      <td>kaliamoorthi@chromium.org</td>\n      <td>url blacklist policy can't filter by query par...</td>\n    </tr>\n    <tr>\n      <th>383102</th>\n      <td>383103</td>\n      <td>349998</td>\n      <td>CSS auto-complete suggestion list is incomplet...</td>\n      <td>2014-03-06 18:43:04</td>\n      <td>apavlov@chromium.org</td>\n      <td>css auto-complete suggestion list is incomplet...</td>\n    </tr>\n    <tr>\n      <th>383103</th>\n      <td>383104</td>\n      <td>350000</td>\n      <td>Implement clobber checkbox in recipes-based sy...</td>\n      <td>2014-03-06 18:50:51</td>\n      <td></td>\n      <td>implement clobber checkbox in recipes-based sy...</td>\n    </tr>\n  </tbody>\n</table>\n<p>383104 rows × 6 columns</p>\n</div>",
      "text/plain": "            id  issue_id                                        issue_title  \\\n0            1         2                       Testing if chromium id works   \n1            2         3                                     This is a test   \n2            3         4  Scrolling with some scroll mice (touchpad, etc...   \n3            4         5                               Java not working yet   \n4            5         6  Chrome treats links in frames differently than...   \n...        ...       ...                                                ...   \n383099  383100    349995         Windows GPU bots failing on multiple tests   \n383100  383101    349996  Pop-up window from inside Flash Player not wor...   \n383101  383102    349997  URL blacklist policy can't filter by query par...   \n383102  383103    349998  CSS auto-complete suggestion list is incomplet...   \n383103  383104    350000  Implement clobber checkbox in recipes-based sy...   \n\n                report_time                      owner  \\\n0       2008-08-30 16:00:21                              \n1       2008-08-31 02:47:11                              \n2       2008-09-02 19:02:31          amit@chromium.org   \n3       2008-09-02 19:04:27                              \n4       2008-09-02 19:08:01                              \n...                     ...                        ...   \n383099  2014-03-06 18:42:28        ernstm@chromium.org   \n383100  2014-03-06 18:42:58                              \n383101  2014-03-06 18:43:00  kaliamoorthi@chromium.org   \n383102  2014-03-06 18:43:04       apavlov@chromium.org   \n383103  2014-03-06 18:50:51                              \n\n                                              description  \n0       testing if chromium id works what steps will r...  \n1       this is a test product version      : 0.2.149....  \n2       scrolling with some scroll mice (touchpad, etc...  \n3       java not working yet product version      : 0....  \n4       chrome treats links in frames differently than...  \n...                                                   ...  \n383099  windows gpu bots failing on multiple tests all...  \n383100  pop-up window from inside flash player not wor...  \n383101  url blacklist policy can't filter by query par...  \n383102  css auto-complete suggestion list is incomplet...  \n383103  implement clobber checkbox in recipes-based sy...  \n\n[383104 rows x 6 columns]"
     },
     "execution_count": 18,
     "metadata": {},
     "output_type": "execute_result"
    }
   ],
   "source": [
    "deepTriage"
   ]
  },
  {
   "cell_type": "code",
   "execution_count": 26,
   "metadata": {},
   "outputs": [
    {
     "data": {
      "text/plain": "383104"
     },
     "execution_count": 26,
     "metadata": {},
     "output_type": "execute_result"
    }
   ],
   "source": [
    "len(deepTriage['owner'])"
   ]
  },
  {
   "cell_type": "code",
   "execution_count": null,
   "metadata": {},
   "outputs": [],
   "source": [
    "for i in range(len(deepTriage)):\r\n",
    "    if deepTriage['owner'][i] != '':\r\n",
    "        print(deepTriage['owner'][i])"
   ]
  },
  {
   "cell_type": "code",
   "execution_count": null,
   "metadata": {},
   "outputs": [],
   "source": [
    "data_owner"
   ]
  },
  {
   "cell_type": "code",
   "execution_count": 30,
   "metadata": {},
   "outputs": [],
   "source": [
    "import nlpaug.augmenter.char as nac\r\n",
    "import nlpaug.augmenter.word as naw\r\n",
    "import nlpaug.augmenter.sentence as nas\r\n",
    "import nlpaug\r\n",
    "\r\n",
    "import csv"
   ]
  },
  {
   "cell_type": "code",
   "execution_count": 31,
   "metadata": {},
   "outputs": [],
   "source": [
    "def deepTriage_data(dataset):\r\n",
    "\r\n",
    "    aug_range = len(dataset)\r\n",
    "    f = open('D:/DeepTriage/Chrome_report.csv', 'w', newline='', encoding='utf-8')\r\n",
    "    wr = csv.writer(f)\r\n",
    "    wr.writerow(dataset)\r\n",
    "    for x in range(len(dataset)):\r\n",
    "        wr.writerow([dataset['text'][x], dataset['labels'][x]])\r\n",
    "\r\n",
    "    dataset.to_csv\r\n",
    "    \r\n",
    "    f.close()"
   ]
  },
  {
   "cell_type": "code",
   "execution_count": 35,
   "metadata": {},
   "outputs": [],
   "source": [
    "deepTriage.to_csv(\"D:/BugTriage/Chrome_report_Deeptriage.csv\", mode='w')"
   ]
  },
  {
   "cell_type": "code",
   "execution_count": 36,
   "metadata": {},
   "outputs": [
    {
     "data": {
      "text/html": "<div>\n<style scoped>\n    .dataframe tbody tr th:only-of-type {\n        vertical-align: middle;\n    }\n\n    .dataframe tbody tr th {\n        vertical-align: top;\n    }\n\n    .dataframe thead th {\n        text-align: right;\n    }\n</style>\n<table border=\"1\" class=\"dataframe\">\n  <thead>\n    <tr style=\"text-align: right;\">\n      <th></th>\n      <th>Unnamed: 0</th>\n      <th>id</th>\n      <th>issue_id</th>\n      <th>issue_title</th>\n      <th>report_time</th>\n      <th>owner</th>\n      <th>description</th>\n    </tr>\n  </thead>\n  <tbody>\n    <tr>\n      <th>0</th>\n      <td>0</td>\n      <td>1</td>\n      <td>2</td>\n      <td>Testing if chromium id works</td>\n      <td>2008-08-30 16:00:21</td>\n      <td>NaN</td>\n      <td>testing if chromium id works what steps will r...</td>\n    </tr>\n    <tr>\n      <th>1</th>\n      <td>1</td>\n      <td>2</td>\n      <td>3</td>\n      <td>This is a test</td>\n      <td>2008-08-31 02:47:11</td>\n      <td>NaN</td>\n      <td>this is a test product version      : 0.2.149....</td>\n    </tr>\n    <tr>\n      <th>2</th>\n      <td>2</td>\n      <td>3</td>\n      <td>4</td>\n      <td>Scrolling with some scroll mice (touchpad, etc...</td>\n      <td>2008-09-02 19:02:31</td>\n      <td>amit@chromium.org</td>\n      <td>scrolling with some scroll mice (touchpad, etc...</td>\n    </tr>\n    <tr>\n      <th>3</th>\n      <td>3</td>\n      <td>4</td>\n      <td>5</td>\n      <td>Java not working yet</td>\n      <td>2008-09-02 19:04:27</td>\n      <td>NaN</td>\n      <td>java not working yet product version      : 0....</td>\n    </tr>\n    <tr>\n      <th>4</th>\n      <td>4</td>\n      <td>5</td>\n      <td>6</td>\n      <td>Chrome treats links in frames differently than...</td>\n      <td>2008-09-02 19:08:01</td>\n      <td>NaN</td>\n      <td>chrome treats links in frames differently than...</td>\n    </tr>\n    <tr>\n      <th>...</th>\n      <td>...</td>\n      <td>...</td>\n      <td>...</td>\n      <td>...</td>\n      <td>...</td>\n      <td>...</td>\n      <td>...</td>\n    </tr>\n    <tr>\n      <th>383099</th>\n      <td>383099</td>\n      <td>383100</td>\n      <td>349995</td>\n      <td>Windows GPU bots failing on multiple tests</td>\n      <td>2014-03-06 18:42:28</td>\n      <td>ernstm@chromium.org</td>\n      <td>windows gpu bots failing on multiple tests all...</td>\n    </tr>\n    <tr>\n      <th>383100</th>\n      <td>383100</td>\n      <td>383101</td>\n      <td>349996</td>\n      <td>Pop-up window from inside Flash Player not wor...</td>\n      <td>2014-03-06 18:42:58</td>\n      <td>NaN</td>\n      <td>pop-up window from inside flash player not wor...</td>\n    </tr>\n    <tr>\n      <th>383101</th>\n      <td>383101</td>\n      <td>383102</td>\n      <td>349997</td>\n      <td>URL blacklist policy can't filter by query par...</td>\n      <td>2014-03-06 18:43:00</td>\n      <td>kaliamoorthi@chromium.org</td>\n      <td>url blacklist policy can't filter by query par...</td>\n    </tr>\n    <tr>\n      <th>383102</th>\n      <td>383102</td>\n      <td>383103</td>\n      <td>349998</td>\n      <td>CSS auto-complete suggestion list is incomplet...</td>\n      <td>2014-03-06 18:43:04</td>\n      <td>apavlov@chromium.org</td>\n      <td>css auto-complete suggestion list is incomplet...</td>\n    </tr>\n    <tr>\n      <th>383103</th>\n      <td>383103</td>\n      <td>383104</td>\n      <td>350000</td>\n      <td>Implement clobber checkbox in recipes-based sy...</td>\n      <td>2014-03-06 18:50:51</td>\n      <td>NaN</td>\n      <td>implement clobber checkbox in recipes-based sy...</td>\n    </tr>\n  </tbody>\n</table>\n<p>383104 rows × 7 columns</p>\n</div>",
      "text/plain": "        Unnamed: 0      id  issue_id  \\\n0                0       1         2   \n1                1       2         3   \n2                2       3         4   \n3                3       4         5   \n4                4       5         6   \n...            ...     ...       ...   \n383099      383099  383100    349995   \n383100      383100  383101    349996   \n383101      383101  383102    349997   \n383102      383102  383103    349998   \n383103      383103  383104    350000   \n\n                                              issue_title  \\\n0                            Testing if chromium id works   \n1                                          This is a test   \n2       Scrolling with some scroll mice (touchpad, etc...   \n3                                    Java not working yet   \n4       Chrome treats links in frames differently than...   \n...                                                   ...   \n383099         Windows GPU bots failing on multiple tests   \n383100  Pop-up window from inside Flash Player not wor...   \n383101  URL blacklist policy can't filter by query par...   \n383102  CSS auto-complete suggestion list is incomplet...   \n383103  Implement clobber checkbox in recipes-based sy...   \n\n                report_time                      owner  \\\n0       2008-08-30 16:00:21                        NaN   \n1       2008-08-31 02:47:11                        NaN   \n2       2008-09-02 19:02:31          amit@chromium.org   \n3       2008-09-02 19:04:27                        NaN   \n4       2008-09-02 19:08:01                        NaN   \n...                     ...                        ...   \n383099  2014-03-06 18:42:28        ernstm@chromium.org   \n383100  2014-03-06 18:42:58                        NaN   \n383101  2014-03-06 18:43:00  kaliamoorthi@chromium.org   \n383102  2014-03-06 18:43:04       apavlov@chromium.org   \n383103  2014-03-06 18:50:51                        NaN   \n\n                                              description  \n0       testing if chromium id works what steps will r...  \n1       this is a test product version      : 0.2.149....  \n2       scrolling with some scroll mice (touchpad, etc...  \n3       java not working yet product version      : 0....  \n4       chrome treats links in frames differently than...  \n...                                                   ...  \n383099  windows gpu bots failing on multiple tests all...  \n383100  pop-up window from inside flash player not wor...  \n383101  url blacklist policy can't filter by query par...  \n383102  css auto-complete suggestion list is incomplet...  \n383103  implement clobber checkbox in recipes-based sy...  \n\n[383104 rows x 7 columns]"
     },
     "execution_count": 36,
     "metadata": {},
     "output_type": "execute_result"
    }
   ],
   "source": [
    "deepChrome = pd.read_csv(\"D:/BugTriage/Chrome_report_Deeptriage.csv\")\r\n",
    "deepChrome"
   ]
  },
  {
   "cell_type": "code",
   "execution_count": null,
   "metadata": {},
   "outputs": [],
   "source": [
    "def augDeep_data(dataset):\r\n",
    "    aug_range = len(dataset)\r\n",
    "    f = open('Deep_Chrome_aug.csv', 'w', newline = '', encoding='utf-8')\r\n",
    "    wr = csv.writer(f)\r\n",
    "    for x in range(len(dataset)):\r\n",
    "        wr.writerow([dataset['text'][x], dataset['labels'][x]])\r\n",
    "    \r\n",
    "    for x in range(3):\r\n",
    "        for line in range(aug_range):\r\n",
    "            augmented_Embeded = aug_word_BackTranslation.augment(dataset['description'][line])\r\n",
    "            wr.writerow([augmented_Embeded, dataset['']])"
   ]
  }
 ],
 "metadata": {
  "kernelspec": {
   "display_name": "Python 3.8.5 64-bit ('tf-gpu-cuda8': conda)",
   "metadata": {
    "interpreter": {
     "hash": "592d2365cf8c69d9089d1741d1cf6e338245e4159eff9ececf626c2bb7405064"
    }
   },
   "name": "python3"
  },
  "language_info": {
   "codemirror_mode": {
    "name": "ipython",
    "version": 3
   },
   "file_extension": ".py",
   "mimetype": "text/x-python",
   "name": "python",
   "nbconvert_exporter": "python",
   "pygments_lexer": "ipython3",
   "version": "3.8.5"
  },
  "orig_nbformat": 2
 },
 "nbformat": 4,
 "nbformat_minor": 2
}